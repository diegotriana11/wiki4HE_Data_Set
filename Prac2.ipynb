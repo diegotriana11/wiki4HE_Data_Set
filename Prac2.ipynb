{
 "cells": [
  {
   "cell_type": "markdown",
   "metadata": {},
   "source": [
    "# Librerias"
   ]
  },
  {
   "cell_type": "code",
   "execution_count": 116,
   "metadata": {},
   "outputs": [],
   "source": [
    "import pandas as pd\n",
    "import numpy as np\n",
    "from statsmodels.graphics.gofplots import qqplot\n",
    "from matplotlib import pyplot\n",
    "from sklearn.linear_model import LogisticRegression\n",
    "from sklearn.model_selection import train_test_split\n",
    "from sklearn.metrics import classification_report\n",
    "from sklearn.metrics import f1_score\n",
    "from scipy.stats import f_oneway\n",
    "\n",
    "# pd.options.display.max_rows = 100\n",
    "pd.options.display.max_columns = 100\n",
    "# from IPython.core.display import display, HTML\n",
    "# display(HTML(\"<style>.container { width:100% !important; }</style>\"))"
   ]
  },
  {
   "cell_type": "markdown",
   "metadata": {},
   "source": [
    "# Funciones"
   ]
  },
  {
   "cell_type": "code",
   "execution_count": 117,
   "metadata": {},
   "outputs": [],
   "source": [
    "def nas(df):\n",
    "    zero_val = (df == 0.00).astype(int).sum(axis=0)\n",
    "    mis_val = df.isnull().sum()\n",
    "    mis_val_percent = 100 * df.isnull().sum() / len(df)\n",
    "    mz_table = pd.concat([mis_val, mis_val_percent], axis=1)\n",
    "    mz_table = mz_table.rename(columns = {0:'Valores_perdidos',1 : 'Valores_Perd_Porc'})\n",
    "    mz_table['Valores_Perd_Porc'] = mz_table['Valores_Perd_Porc'] # + mz_table['Zero Values'] \n",
    "    mz_table['Tipo_dato'] = df.dtypes\n",
    "    mz_table = mz_table[mz_table.iloc[:,1] != 0].sort_values('Valores_Perd_Porc', ascending=False).round(1)\n",
    "    print (\"El data frame tiene \" + str(df.shape[1]) + \" columnas y \" + str(df.shape[0]) + \" filas.\\n\"      \n",
    "        \"Hay \" + str(mz_table.shape[0]) +\n",
    "          \" columnas que tienen valores perdidos.\")\n",
    "    return mz_table\n",
    "\n",
    "# Función que detecta NAN y no da errores con los strings.\n",
    "def isNAN(x):\n",
    "   return (x is np.nan or x != x) \n",
    "\n",
    "\n",
    "# Suponiendo que para las variables con poca proporción de NAN queremos eliminar\n",
    "# aquellas filas con algún valor de este tipo, esta función calcula la cantidad\n",
    "# de filas a eliminar dado un límite bajo el cual no admitimos NAN en los valores\n",
    "# de una variable.\n",
    "def numNANrowsUnder(dataNAS, percentLimitToDrop=10):\n",
    "    numColsToExclude = sum(dataNAS.Valores_Perd_Porc > percentLimitToDrop)\n",
    "    colsToInclude = dataNAS.index[numColsToExclude:]\n",
    "    dataToDrop = data[colsToInclude].copy()\n",
    "    \n",
    "    numRowsToDrop = 0\n",
    "    for row in range(len(dataToDrop)):\n",
    "        for column in range(dataToDrop.shape[1]):\n",
    "            if isNAN(dataToDrop.iloc[row, column]):\n",
    "                numRowsToDrop += 1\n",
    "                break\n",
    "    \n",
    "    return(numRowsToDrop)\n"
   ]
  },
  {
   "cell_type": "markdown",
   "metadata": {},
   "source": [
    "# 1. Descripción del dataset. ¿Por qué es importante y qué pregunta/problema pretende responder?"
   ]
  },
  {
   "cell_type": "markdown",
   "metadata": {},
   "source": [
    "El dataset escogido es importante porque permite evidenciar la percepción académica, de uso y de calidad de información para los docentes,  del repositorio <a href=\"https://es.wikipedia.org/wiki/Wikipedia:Portada\" target=\"_blnak\">Wikipedia</a>. Los datos provienen de una encuesta enviada a profesores a tiempo parcial y a tiempo completo en dos universidades españolas en 2012-2013: Universitat Oberta de Catalunya (<a href=\"https://www.uoc.edu/\">UOC</a>) y Universitat Pompeu Fabra (<a href=\"https://www.upf.edu/es/\">UPF</a>).\n",
    "\n",
    "\n",
    "En esta idea, el <b>dataset</b> ofrece la oportunidad de conocer, a través de una encuesta realizada con variables categoricas, discretas y continuas, cual es la percepción de los docentes de educación superior con respecto al aporte de wikipedia, como herramienta que contribuya, con su información, a los estudiantes.\n",
    "\n",
    "Pregunta problema: <b>¿Cuál es la percepción de los docentes de las universidades UOC y UPF con respecto a wikipedia como herramienta de colaboración a los estudiantes?</b>"
   ]
  },
  {
   "cell_type": "markdown",
   "metadata": {},
   "source": [
    "## 2. Integración y selección de los datos de interés a analizar."
   ]
  },
  {
   "cell_type": "markdown",
   "metadata": {},
   "source": [
    "Inicialmente, se cargaran los datos y se realizará una descripción estadística general; de igual forma, se presentaran los primeros registros con el fin de conocer los valores tomados por variable:  "
   ]
  },
  {
   "cell_type": "markdown",
   "metadata": {},
   "source": [
    "## Carga de Datos"
   ]
  },
  {
   "cell_type": "code",
   "execution_count": 118,
   "metadata": {
    "scrolled": true
   },
   "outputs": [
    {
     "name": "stdout",
     "output_type": "stream",
     "text": [
      "El dataset cuenta con  913  filas y  53  variables\n"
     ]
    },
    {
     "data": {
      "text/html": [
       "<div>\n",
       "<style scoped>\n",
       "    .dataframe tbody tr th:only-of-type {\n",
       "        vertical-align: middle;\n",
       "    }\n",
       "\n",
       "    .dataframe tbody tr th {\n",
       "        vertical-align: top;\n",
       "    }\n",
       "\n",
       "    .dataframe thead th {\n",
       "        text-align: right;\n",
       "    }\n",
       "</style>\n",
       "<table border=\"1\" class=\"dataframe\">\n",
       "  <thead>\n",
       "    <tr style=\"text-align: right;\">\n",
       "      <th></th>\n",
       "      <th>AGE</th>\n",
       "      <th>GENDER</th>\n",
       "      <th>DOMAIN</th>\n",
       "      <th>PhD</th>\n",
       "      <th>YEARSEXP</th>\n",
       "      <th>UNIVERSITY</th>\n",
       "      <th>UOC_POSITION</th>\n",
       "      <th>OTHER_POSITION</th>\n",
       "      <th>OTHERSTATUS</th>\n",
       "      <th>USERWIKI</th>\n",
       "      <th>PU1</th>\n",
       "      <th>PU2</th>\n",
       "      <th>PU3</th>\n",
       "      <th>PEU1</th>\n",
       "      <th>PEU2</th>\n",
       "      <th>PEU3</th>\n",
       "      <th>ENJ1</th>\n",
       "      <th>ENJ2</th>\n",
       "      <th>Qu1</th>\n",
       "      <th>Qu2</th>\n",
       "      <th>Qu3</th>\n",
       "      <th>Qu4</th>\n",
       "      <th>Qu5</th>\n",
       "      <th>Vis1</th>\n",
       "      <th>Vis2</th>\n",
       "      <th>Vis3</th>\n",
       "      <th>Im1</th>\n",
       "      <th>Im2</th>\n",
       "      <th>Im3</th>\n",
       "      <th>SA1</th>\n",
       "      <th>SA2</th>\n",
       "      <th>SA3</th>\n",
       "      <th>Use1</th>\n",
       "      <th>Use2</th>\n",
       "      <th>Use3</th>\n",
       "      <th>Use4</th>\n",
       "      <th>Use5</th>\n",
       "      <th>Pf1</th>\n",
       "      <th>Pf2</th>\n",
       "      <th>Pf3</th>\n",
       "      <th>JR1</th>\n",
       "      <th>JR2</th>\n",
       "      <th>BI1</th>\n",
       "      <th>BI2</th>\n",
       "      <th>Inc1</th>\n",
       "      <th>Inc2</th>\n",
       "      <th>Inc3</th>\n",
       "      <th>Inc4</th>\n",
       "      <th>Exp1</th>\n",
       "      <th>Exp2</th>\n",
       "      <th>Exp3</th>\n",
       "      <th>Exp4</th>\n",
       "      <th>Exp5</th>\n",
       "    </tr>\n",
       "  </thead>\n",
       "  <tbody>\n",
       "    <tr>\n",
       "      <th>0</th>\n",
       "      <td>40</td>\n",
       "      <td>0</td>\n",
       "      <td>2</td>\n",
       "      <td>1</td>\n",
       "      <td>14</td>\n",
       "      <td>1</td>\n",
       "      <td>2</td>\n",
       "      <td>?</td>\n",
       "      <td>?</td>\n",
       "      <td>0</td>\n",
       "      <td>4</td>\n",
       "      <td>4</td>\n",
       "      <td>3</td>\n",
       "      <td>5</td>\n",
       "      <td>5</td>\n",
       "      <td>3</td>\n",
       "      <td>4</td>\n",
       "      <td>4</td>\n",
       "      <td>3</td>\n",
       "      <td>3</td>\n",
       "      <td>2</td>\n",
       "      <td>2</td>\n",
       "      <td>3</td>\n",
       "      <td>3</td>\n",
       "      <td>3</td>\n",
       "      <td>1</td>\n",
       "      <td>2</td>\n",
       "      <td>4</td>\n",
       "      <td>2</td>\n",
       "      <td>4</td>\n",
       "      <td>4</td>\n",
       "      <td>4</td>\n",
       "      <td>3</td>\n",
       "      <td>1</td>\n",
       "      <td>1</td>\n",
       "      <td>2</td>\n",
       "      <td>4</td>\n",
       "      <td>1</td>\n",
       "      <td>1</td>\n",
       "      <td>3</td>\n",
       "      <td>4</td>\n",
       "      <td>1</td>\n",
       "      <td>2</td>\n",
       "      <td>3</td>\n",
       "      <td>5</td>\n",
       "      <td>5</td>\n",
       "      <td>5</td>\n",
       "      <td>5</td>\n",
       "      <td>4</td>\n",
       "      <td>4</td>\n",
       "      <td>4</td>\n",
       "      <td>1</td>\n",
       "      <td>2</td>\n",
       "    </tr>\n",
       "    <tr>\n",
       "      <th>1</th>\n",
       "      <td>42</td>\n",
       "      <td>0</td>\n",
       "      <td>5</td>\n",
       "      <td>1</td>\n",
       "      <td>18</td>\n",
       "      <td>1</td>\n",
       "      <td>2</td>\n",
       "      <td>?</td>\n",
       "      <td>?</td>\n",
       "      <td>0</td>\n",
       "      <td>2</td>\n",
       "      <td>3</td>\n",
       "      <td>3</td>\n",
       "      <td>4</td>\n",
       "      <td>4</td>\n",
       "      <td>3</td>\n",
       "      <td>3</td>\n",
       "      <td>4</td>\n",
       "      <td>4</td>\n",
       "      <td>4</td>\n",
       "      <td>3</td>\n",
       "      <td>3</td>\n",
       "      <td>2</td>\n",
       "      <td>3</td>\n",
       "      <td>3</td>\n",
       "      <td>1</td>\n",
       "      <td>1</td>\n",
       "      <td>2</td>\n",
       "      <td>1</td>\n",
       "      <td>4</td>\n",
       "      <td>4</td>\n",
       "      <td>4</td>\n",
       "      <td>2</td>\n",
       "      <td>2</td>\n",
       "      <td>1</td>\n",
       "      <td>1</td>\n",
       "      <td>2</td>\n",
       "      <td>1</td>\n",
       "      <td>1</td>\n",
       "      <td>1</td>\n",
       "      <td>4</td>\n",
       "      <td>3</td>\n",
       "      <td>2</td>\n",
       "      <td>2</td>\n",
       "      <td>4</td>\n",
       "      <td>4</td>\n",
       "      <td>3</td>\n",
       "      <td>4</td>\n",
       "      <td>2</td>\n",
       "      <td>2</td>\n",
       "      <td>4</td>\n",
       "      <td>2</td>\n",
       "      <td>4</td>\n",
       "    </tr>\n",
       "    <tr>\n",
       "      <th>2</th>\n",
       "      <td>37</td>\n",
       "      <td>0</td>\n",
       "      <td>4</td>\n",
       "      <td>1</td>\n",
       "      <td>13</td>\n",
       "      <td>1</td>\n",
       "      <td>3</td>\n",
       "      <td>?</td>\n",
       "      <td>?</td>\n",
       "      <td>0</td>\n",
       "      <td>2</td>\n",
       "      <td>2</td>\n",
       "      <td>2</td>\n",
       "      <td>4</td>\n",
       "      <td>4</td>\n",
       "      <td>3</td>\n",
       "      <td>3</td>\n",
       "      <td>3</td>\n",
       "      <td>2</td>\n",
       "      <td>2</td>\n",
       "      <td>2</td>\n",
       "      <td>5</td>\n",
       "      <td>3</td>\n",
       "      <td>2</td>\n",
       "      <td>3</td>\n",
       "      <td>2</td>\n",
       "      <td>2</td>\n",
       "      <td>4</td>\n",
       "      <td>3</td>\n",
       "      <td>4</td>\n",
       "      <td>2</td>\n",
       "      <td>4</td>\n",
       "      <td>1</td>\n",
       "      <td>1</td>\n",
       "      <td>1</td>\n",
       "      <td>1</td>\n",
       "      <td>1</td>\n",
       "      <td>3</td>\n",
       "      <td>3</td>\n",
       "      <td>3</td>\n",
       "      <td>4</td>\n",
       "      <td>3</td>\n",
       "      <td>1</td>\n",
       "      <td>1</td>\n",
       "      <td>5</td>\n",
       "      <td>3</td>\n",
       "      <td>5</td>\n",
       "      <td>5</td>\n",
       "      <td>2</td>\n",
       "      <td>2</td>\n",
       "      <td>2</td>\n",
       "      <td>1</td>\n",
       "      <td>3</td>\n",
       "    </tr>\n",
       "    <tr>\n",
       "      <th>3</th>\n",
       "      <td>40</td>\n",
       "      <td>0</td>\n",
       "      <td>4</td>\n",
       "      <td>0</td>\n",
       "      <td>13</td>\n",
       "      <td>1</td>\n",
       "      <td>3</td>\n",
       "      <td>?</td>\n",
       "      <td>?</td>\n",
       "      <td>0</td>\n",
       "      <td>3</td>\n",
       "      <td>3</td>\n",
       "      <td>4</td>\n",
       "      <td>3</td>\n",
       "      <td>3</td>\n",
       "      <td>3</td>\n",
       "      <td>4</td>\n",
       "      <td>3</td>\n",
       "      <td>3</td>\n",
       "      <td>4</td>\n",
       "      <td>3</td>\n",
       "      <td>3</td>\n",
       "      <td>3</td>\n",
       "      <td>3</td>\n",
       "      <td>4</td>\n",
       "      <td>3</td>\n",
       "      <td>2</td>\n",
       "      <td>2</td>\n",
       "      <td>3</td>\n",
       "      <td>5</td>\n",
       "      <td>5</td>\n",
       "      <td>5</td>\n",
       "      <td>3</td>\n",
       "      <td>3</td>\n",
       "      <td>3</td>\n",
       "      <td>3</td>\n",
       "      <td>3</td>\n",
       "      <td>4</td>\n",
       "      <td>4</td>\n",
       "      <td>4</td>\n",
       "      <td>5</td>\n",
       "      <td>4</td>\n",
       "      <td>3</td>\n",
       "      <td>3</td>\n",
       "      <td>3</td>\n",
       "      <td>4</td>\n",
       "      <td>4</td>\n",
       "      <td>3</td>\n",
       "      <td>4</td>\n",
       "      <td>4</td>\n",
       "      <td>3</td>\n",
       "      <td>3</td>\n",
       "      <td>4</td>\n",
       "    </tr>\n",
       "    <tr>\n",
       "      <th>4</th>\n",
       "      <td>51</td>\n",
       "      <td>0</td>\n",
       "      <td>6</td>\n",
       "      <td>0</td>\n",
       "      <td>8</td>\n",
       "      <td>1</td>\n",
       "      <td>3</td>\n",
       "      <td>?</td>\n",
       "      <td>?</td>\n",
       "      <td>1</td>\n",
       "      <td>4</td>\n",
       "      <td>3</td>\n",
       "      <td>5</td>\n",
       "      <td>5</td>\n",
       "      <td>4</td>\n",
       "      <td>3</td>\n",
       "      <td>4</td>\n",
       "      <td>4</td>\n",
       "      <td>4</td>\n",
       "      <td>5</td>\n",
       "      <td>4</td>\n",
       "      <td>3</td>\n",
       "      <td>4</td>\n",
       "      <td>4</td>\n",
       "      <td>4</td>\n",
       "      <td>4</td>\n",
       "      <td>3</td>\n",
       "      <td>2</td>\n",
       "      <td>3</td>\n",
       "      <td>5</td>\n",
       "      <td>5</td>\n",
       "      <td>5</td>\n",
       "      <td>3</td>\n",
       "      <td>3</td>\n",
       "      <td>5</td>\n",
       "      <td>5</td>\n",
       "      <td>5</td>\n",
       "      <td>5</td>\n",
       "      <td>5</td>\n",
       "      <td>5</td>\n",
       "      <td>3</td>\n",
       "      <td>3</td>\n",
       "      <td>5</td>\n",
       "      <td>5</td>\n",
       "      <td>5</td>\n",
       "      <td>5</td>\n",
       "      <td>4</td>\n",
       "      <td>4</td>\n",
       "      <td>5</td>\n",
       "      <td>5</td>\n",
       "      <td>5</td>\n",
       "      <td>4</td>\n",
       "      <td>4</td>\n",
       "    </tr>\n",
       "  </tbody>\n",
       "</table>\n",
       "</div>"
      ],
      "text/plain": [
       "   AGE  GENDER DOMAIN  PhD YEARSEXP  UNIVERSITY UOC_POSITION OTHER_POSITION  \\\n",
       "0   40       0      2    1       14           1            2              ?   \n",
       "1   42       0      5    1       18           1            2              ?   \n",
       "2   37       0      4    1       13           1            3              ?   \n",
       "3   40       0      4    0       13           1            3              ?   \n",
       "4   51       0      6    0        8           1            3              ?   \n",
       "\n",
       "  OTHERSTATUS USERWIKI PU1 PU2 PU3 PEU1 PEU2 PEU3 ENJ1 ENJ2 Qu1 Qu2 Qu3 Qu4  \\\n",
       "0           ?        0   4   4   3    5    5    3    4    4   3   3   2   2   \n",
       "1           ?        0   2   3   3    4    4    3    3    4   4   4   3   3   \n",
       "2           ?        0   2   2   2    4    4    3    3    3   2   2   2   5   \n",
       "3           ?        0   3   3   4    3    3    3    4    3   3   4   3   3   \n",
       "4           ?        1   4   3   5    5    4    3    4    4   4   5   4   3   \n",
       "\n",
       "  Qu5 Vis1 Vis2 Vis3 Im1 Im2 Im3 SA1 SA2 SA3 Use1 Use2 Use3 Use4 Use5 Pf1 Pf2  \\\n",
       "0   3    3    3    1   2   4   2   4   4   4    3    1    1    2    4   1   1   \n",
       "1   2    3    3    1   1   2   1   4   4   4    2    2    1    1    2   1   1   \n",
       "2   3    2    3    2   2   4   3   4   2   4    1    1    1    1    1   3   3   \n",
       "3   3    3    4    3   2   2   3   5   5   5    3    3    3    3    3   4   4   \n",
       "4   4    4    4    4   3   2   3   5   5   5    3    3    5    5    5   5   5   \n",
       "\n",
       "  Pf3 JR1 JR2 BI1 BI2 Inc1 Inc2 Inc3 Inc4 Exp1 Exp2 Exp3 Exp4 Exp5  \n",
       "0   3   4   1   2   3    5    5    5    5    4    4    4    1    2  \n",
       "1   1   4   3   2   2    4    4    3    4    2    2    4    2    4  \n",
       "2   3   4   3   1   1    5    3    5    5    2    2    2    1    3  \n",
       "3   4   5   4   3   3    3    4    4    3    4    4    3    3    4  \n",
       "4   5   3   3   5   5    5    5    4    4    5    5    5    4    4  "
      ]
     },
     "execution_count": 118,
     "metadata": {},
     "output_type": "execute_result"
    }
   ],
   "source": [
    "data = pd.read_csv('wiki4HE.csv', sep=\";\")\n",
    "print(\"El dataset cuenta con \", data.shape[0], \" filas y \", data.shape[1], \" variables\")\n",
    "data.head()"
   ]
  },
  {
   "cell_type": "markdown",
   "metadata": {},
   "source": [
    "### Resumen"
   ]
  },
  {
   "cell_type": "code",
   "execution_count": 119,
   "metadata": {},
   "outputs": [
    {
     "data": {
      "text/html": [
       "<div>\n",
       "<style scoped>\n",
       "    .dataframe tbody tr th:only-of-type {\n",
       "        vertical-align: middle;\n",
       "    }\n",
       "\n",
       "    .dataframe tbody tr th {\n",
       "        vertical-align: top;\n",
       "    }\n",
       "\n",
       "    .dataframe thead th {\n",
       "        text-align: right;\n",
       "    }\n",
       "</style>\n",
       "<table border=\"1\" class=\"dataframe\">\n",
       "  <thead>\n",
       "    <tr style=\"text-align: right;\">\n",
       "      <th></th>\n",
       "      <th>AGE</th>\n",
       "      <th>GENDER</th>\n",
       "      <th>PhD</th>\n",
       "      <th>UNIVERSITY</th>\n",
       "    </tr>\n",
       "  </thead>\n",
       "  <tbody>\n",
       "    <tr>\n",
       "      <th>count</th>\n",
       "      <td>913.000000</td>\n",
       "      <td>913.000000</td>\n",
       "      <td>913.000000</td>\n",
       "      <td>913.000000</td>\n",
       "    </tr>\n",
       "    <tr>\n",
       "      <th>mean</th>\n",
       "      <td>42.246440</td>\n",
       "      <td>0.424973</td>\n",
       "      <td>0.464403</td>\n",
       "      <td>1.123768</td>\n",
       "    </tr>\n",
       "    <tr>\n",
       "      <th>std</th>\n",
       "      <td>8.058418</td>\n",
       "      <td>0.494610</td>\n",
       "      <td>0.499005</td>\n",
       "      <td>0.329497</td>\n",
       "    </tr>\n",
       "    <tr>\n",
       "      <th>min</th>\n",
       "      <td>23.000000</td>\n",
       "      <td>0.000000</td>\n",
       "      <td>0.000000</td>\n",
       "      <td>1.000000</td>\n",
       "    </tr>\n",
       "    <tr>\n",
       "      <th>25%</th>\n",
       "      <td>36.000000</td>\n",
       "      <td>0.000000</td>\n",
       "      <td>0.000000</td>\n",
       "      <td>1.000000</td>\n",
       "    </tr>\n",
       "    <tr>\n",
       "      <th>50%</th>\n",
       "      <td>42.000000</td>\n",
       "      <td>0.000000</td>\n",
       "      <td>0.000000</td>\n",
       "      <td>1.000000</td>\n",
       "    </tr>\n",
       "    <tr>\n",
       "      <th>75%</th>\n",
       "      <td>47.000000</td>\n",
       "      <td>1.000000</td>\n",
       "      <td>1.000000</td>\n",
       "      <td>1.000000</td>\n",
       "    </tr>\n",
       "    <tr>\n",
       "      <th>max</th>\n",
       "      <td>69.000000</td>\n",
       "      <td>1.000000</td>\n",
       "      <td>1.000000</td>\n",
       "      <td>2.000000</td>\n",
       "    </tr>\n",
       "  </tbody>\n",
       "</table>\n",
       "</div>"
      ],
      "text/plain": [
       "              AGE      GENDER         PhD  UNIVERSITY\n",
       "count  913.000000  913.000000  913.000000  913.000000\n",
       "mean    42.246440    0.424973    0.464403    1.123768\n",
       "std      8.058418    0.494610    0.499005    0.329497\n",
       "min     23.000000    0.000000    0.000000    1.000000\n",
       "25%     36.000000    0.000000    0.000000    1.000000\n",
       "50%     42.000000    0.000000    0.000000    1.000000\n",
       "75%     47.000000    1.000000    1.000000    1.000000\n",
       "max     69.000000    1.000000    1.000000    2.000000"
      ]
     },
     "execution_count": 119,
     "metadata": {},
     "output_type": "execute_result"
    }
   ],
   "source": [
    "data.describe()"
   ]
  },
  {
   "cell_type": "markdown",
   "metadata": {},
   "source": [
    "Como se logra observar en el resumen anterior, de las 53 variables, tan solo 4 (__AGE, GENDER, PhD y University__) han sido tomadas como numéricas. Con esto, se debe realizar un cambio de tipos de variable. También, es de mencionar que este dataset podría ser dividido en 2 datasets: __variables demográficas__ y __variables de aspecto sobre wikipedia__."
   ]
  },
  {
   "cell_type": "markdown",
   "metadata": {},
   "source": [
    "#### Tipos de Datos (por defecto)"
   ]
  },
  {
   "cell_type": "markdown",
   "metadata": {},
   "source": [
    "A continuación se observa como python ha cargado los datos, así como su tipo de variable:"
   ]
  },
  {
   "cell_type": "code",
   "execution_count": 120,
   "metadata": {},
   "outputs": [
    {
     "data": {
      "text/plain": [
       "{dtype('int64'): Index(['AGE', 'GENDER', 'PhD', 'UNIVERSITY'], dtype='object'),\n",
       " dtype('O'): Index(['DOMAIN', 'YEARSEXP', 'UOC_POSITION', 'OTHER_POSITION', 'OTHERSTATUS',\n",
       "        'USERWIKI', 'PU1', 'PU2', 'PU3', 'PEU1', 'PEU2', 'PEU3', 'ENJ1', 'ENJ2',\n",
       "        'Qu1', 'Qu2', 'Qu3', 'Qu4', 'Qu5', 'Vis1', 'Vis2', 'Vis3', 'Im1', 'Im2',\n",
       "        'Im3', 'SA1', 'SA2', 'SA3', 'Use1', 'Use2', 'Use3', 'Use4', 'Use5',\n",
       "        'Pf1', 'Pf2', 'Pf3', 'JR1', 'JR2', 'BI1', 'BI2', 'Inc1', 'Inc2', 'Inc3',\n",
       "        'Inc4', 'Exp1', 'Exp2', 'Exp3', 'Exp4', 'Exp5'],\n",
       "       dtype='object')}"
      ]
     },
     "execution_count": 120,
     "metadata": {},
     "output_type": "execute_result"
    }
   ],
   "source": [
    "data.columns.to_series().groupby(data.dtypes).groups"
   ]
  },
  {
   "cell_type": "markdown",
   "metadata": {},
   "source": [
    "#### Tipos de Datos (modificados)"
   ]
  },
  {
   "cell_type": "code",
   "execution_count": 121,
   "metadata": {},
   "outputs": [],
   "source": [
    "vars_no_category = [\"AGE\", \"YEARSEXP\"]\n",
    "for col in data.loc[:, ~data.columns.isin(vars_no_category)].columns:\n",
    "    data[col] = data[col].astype('category')\n"
   ]
  },
  {
   "cell_type": "markdown",
   "metadata": {},
   "source": [
    "##### Resumen Tipos de variable"
   ]
  },
  {
   "cell_type": "code",
   "execution_count": 122,
   "metadata": {
    "scrolled": true
   },
   "outputs": [
    {
     "data": {
      "text/html": [
       "<div>\n",
       "<style scoped>\n",
       "    .dataframe tbody tr th:only-of-type {\n",
       "        vertical-align: middle;\n",
       "    }\n",
       "\n",
       "    .dataframe tbody tr th {\n",
       "        vertical-align: top;\n",
       "    }\n",
       "\n",
       "    .dataframe thead th {\n",
       "        text-align: right;\n",
       "    }\n",
       "</style>\n",
       "<table border=\"1\" class=\"dataframe\">\n",
       "  <thead>\n",
       "    <tr style=\"text-align: right;\">\n",
       "      <th></th>\n",
       "      <th>Tipo</th>\n",
       "    </tr>\n",
       "  </thead>\n",
       "  <tbody>\n",
       "    <tr>\n",
       "      <th>AGE</th>\n",
       "      <td>int64</td>\n",
       "    </tr>\n",
       "    <tr>\n",
       "      <th>GENDER</th>\n",
       "      <td>category</td>\n",
       "    </tr>\n",
       "    <tr>\n",
       "      <th>DOMAIN</th>\n",
       "      <td>category</td>\n",
       "    </tr>\n",
       "    <tr>\n",
       "      <th>PhD</th>\n",
       "      <td>category</td>\n",
       "    </tr>\n",
       "    <tr>\n",
       "      <th>YEARSEXP</th>\n",
       "      <td>object</td>\n",
       "    </tr>\n",
       "    <tr>\n",
       "      <th>UNIVERSITY</th>\n",
       "      <td>category</td>\n",
       "    </tr>\n",
       "    <tr>\n",
       "      <th>UOC_POSITION</th>\n",
       "      <td>category</td>\n",
       "    </tr>\n",
       "    <tr>\n",
       "      <th>OTHER_POSITION</th>\n",
       "      <td>category</td>\n",
       "    </tr>\n",
       "    <tr>\n",
       "      <th>OTHERSTATUS</th>\n",
       "      <td>category</td>\n",
       "    </tr>\n",
       "    <tr>\n",
       "      <th>USERWIKI</th>\n",
       "      <td>category</td>\n",
       "    </tr>\n",
       "    <tr>\n",
       "      <th>PU1</th>\n",
       "      <td>category</td>\n",
       "    </tr>\n",
       "    <tr>\n",
       "      <th>PU2</th>\n",
       "      <td>category</td>\n",
       "    </tr>\n",
       "    <tr>\n",
       "      <th>PU3</th>\n",
       "      <td>category</td>\n",
       "    </tr>\n",
       "    <tr>\n",
       "      <th>PEU1</th>\n",
       "      <td>category</td>\n",
       "    </tr>\n",
       "    <tr>\n",
       "      <th>PEU2</th>\n",
       "      <td>category</td>\n",
       "    </tr>\n",
       "    <tr>\n",
       "      <th>PEU3</th>\n",
       "      <td>category</td>\n",
       "    </tr>\n",
       "    <tr>\n",
       "      <th>ENJ1</th>\n",
       "      <td>category</td>\n",
       "    </tr>\n",
       "    <tr>\n",
       "      <th>ENJ2</th>\n",
       "      <td>category</td>\n",
       "    </tr>\n",
       "    <tr>\n",
       "      <th>Qu1</th>\n",
       "      <td>category</td>\n",
       "    </tr>\n",
       "    <tr>\n",
       "      <th>Qu2</th>\n",
       "      <td>category</td>\n",
       "    </tr>\n",
       "    <tr>\n",
       "      <th>Qu3</th>\n",
       "      <td>category</td>\n",
       "    </tr>\n",
       "    <tr>\n",
       "      <th>Qu4</th>\n",
       "      <td>category</td>\n",
       "    </tr>\n",
       "    <tr>\n",
       "      <th>Qu5</th>\n",
       "      <td>category</td>\n",
       "    </tr>\n",
       "    <tr>\n",
       "      <th>Vis1</th>\n",
       "      <td>category</td>\n",
       "    </tr>\n",
       "    <tr>\n",
       "      <th>Vis2</th>\n",
       "      <td>category</td>\n",
       "    </tr>\n",
       "    <tr>\n",
       "      <th>Vis3</th>\n",
       "      <td>category</td>\n",
       "    </tr>\n",
       "    <tr>\n",
       "      <th>Im1</th>\n",
       "      <td>category</td>\n",
       "    </tr>\n",
       "    <tr>\n",
       "      <th>Im2</th>\n",
       "      <td>category</td>\n",
       "    </tr>\n",
       "    <tr>\n",
       "      <th>Im3</th>\n",
       "      <td>category</td>\n",
       "    </tr>\n",
       "    <tr>\n",
       "      <th>SA1</th>\n",
       "      <td>category</td>\n",
       "    </tr>\n",
       "    <tr>\n",
       "      <th>SA2</th>\n",
       "      <td>category</td>\n",
       "    </tr>\n",
       "    <tr>\n",
       "      <th>SA3</th>\n",
       "      <td>category</td>\n",
       "    </tr>\n",
       "    <tr>\n",
       "      <th>Use1</th>\n",
       "      <td>category</td>\n",
       "    </tr>\n",
       "    <tr>\n",
       "      <th>Use2</th>\n",
       "      <td>category</td>\n",
       "    </tr>\n",
       "    <tr>\n",
       "      <th>Use3</th>\n",
       "      <td>category</td>\n",
       "    </tr>\n",
       "    <tr>\n",
       "      <th>Use4</th>\n",
       "      <td>category</td>\n",
       "    </tr>\n",
       "    <tr>\n",
       "      <th>Use5</th>\n",
       "      <td>category</td>\n",
       "    </tr>\n",
       "    <tr>\n",
       "      <th>Pf1</th>\n",
       "      <td>category</td>\n",
       "    </tr>\n",
       "    <tr>\n",
       "      <th>Pf2</th>\n",
       "      <td>category</td>\n",
       "    </tr>\n",
       "    <tr>\n",
       "      <th>Pf3</th>\n",
       "      <td>category</td>\n",
       "    </tr>\n",
       "    <tr>\n",
       "      <th>JR1</th>\n",
       "      <td>category</td>\n",
       "    </tr>\n",
       "    <tr>\n",
       "      <th>JR2</th>\n",
       "      <td>category</td>\n",
       "    </tr>\n",
       "    <tr>\n",
       "      <th>BI1</th>\n",
       "      <td>category</td>\n",
       "    </tr>\n",
       "    <tr>\n",
       "      <th>BI2</th>\n",
       "      <td>category</td>\n",
       "    </tr>\n",
       "    <tr>\n",
       "      <th>Inc1</th>\n",
       "      <td>category</td>\n",
       "    </tr>\n",
       "    <tr>\n",
       "      <th>Inc2</th>\n",
       "      <td>category</td>\n",
       "    </tr>\n",
       "    <tr>\n",
       "      <th>Inc3</th>\n",
       "      <td>category</td>\n",
       "    </tr>\n",
       "    <tr>\n",
       "      <th>Inc4</th>\n",
       "      <td>category</td>\n",
       "    </tr>\n",
       "    <tr>\n",
       "      <th>Exp1</th>\n",
       "      <td>category</td>\n",
       "    </tr>\n",
       "    <tr>\n",
       "      <th>Exp2</th>\n",
       "      <td>category</td>\n",
       "    </tr>\n",
       "    <tr>\n",
       "      <th>Exp3</th>\n",
       "      <td>category</td>\n",
       "    </tr>\n",
       "    <tr>\n",
       "      <th>Exp4</th>\n",
       "      <td>category</td>\n",
       "    </tr>\n",
       "    <tr>\n",
       "      <th>Exp5</th>\n",
       "      <td>category</td>\n",
       "    </tr>\n",
       "  </tbody>\n",
       "</table>\n",
       "</div>"
      ],
      "text/plain": [
       "                    Tipo\n",
       "AGE                int64\n",
       "GENDER          category\n",
       "DOMAIN          category\n",
       "PhD             category\n",
       "YEARSEXP          object\n",
       "UNIVERSITY      category\n",
       "UOC_POSITION    category\n",
       "OTHER_POSITION  category\n",
       "OTHERSTATUS     category\n",
       "USERWIKI        category\n",
       "PU1             category\n",
       "PU2             category\n",
       "PU3             category\n",
       "PEU1            category\n",
       "PEU2            category\n",
       "PEU3            category\n",
       "ENJ1            category\n",
       "ENJ2            category\n",
       "Qu1             category\n",
       "Qu2             category\n",
       "Qu3             category\n",
       "Qu4             category\n",
       "Qu5             category\n",
       "Vis1            category\n",
       "Vis2            category\n",
       "Vis3            category\n",
       "Im1             category\n",
       "Im2             category\n",
       "Im3             category\n",
       "SA1             category\n",
       "SA2             category\n",
       "SA3             category\n",
       "Use1            category\n",
       "Use2            category\n",
       "Use3            category\n",
       "Use4            category\n",
       "Use5            category\n",
       "Pf1             category\n",
       "Pf2             category\n",
       "Pf3             category\n",
       "JR1             category\n",
       "JR2             category\n",
       "BI1             category\n",
       "BI2             category\n",
       "Inc1            category\n",
       "Inc2            category\n",
       "Inc3            category\n",
       "Inc4            category\n",
       "Exp1            category\n",
       "Exp2            category\n",
       "Exp3            category\n",
       "Exp4            category\n",
       "Exp5            category"
      ]
     },
     "execution_count": 122,
     "metadata": {},
     "output_type": "execute_result"
    }
   ],
   "source": [
    "pd.DataFrame(data.dtypes, columns=['Tipo'])"
   ]
  },
  {
   "cell_type": "markdown",
   "metadata": {},
   "source": [
    "Ahora bien, se observa que la variable __YEARSEXP__ ha sido cargada como \"object\" a pesar de que es numerica (según la descripción de la <a href=\"https://archive.ics.uci.edu/ml/datasets/wiki4HE\">página del set oficial</a>). Sin embargo, esta variable cuenta con valores nulos, por lo que sera tratada en un apartado siguiente."
   ]
  },
  {
   "cell_type": "markdown",
   "metadata": {},
   "source": [
    "#### Conocimiento de los datos: Variables Demográficas"
   ]
  },
  {
   "cell_type": "markdown",
   "metadata": {},
   "source": [
    "A continuación se presentan las variables demográficas del dataset:\n",
    "\n",
    "|                | Descripción variable |\n",
    "|----------------|:---------------------|\n",
    "| AGE            | Age of Professor     |\n",
    "| GENDER         | Male or Female       |\n",
    "| DOMAIN         | Area of Expertise: Arts & Humanities; Sciences; Health Sciences; Engineering & Architecture; Law & Politics; Social Sciences |\n",
    "| PhD            | Has PhD or Not       | \n",
    "| YEAREXP        | Years of university teaching experience  |\n",
    "| UNIVERSITY     | Universitat Oberta de Catalunya (UOC) or Universitat Pompeu Fabra (UPF). |\n",
    "| UOC_POSITION   | Professor; Associate; Assistant; Lecturer; Instructor; Adjunct |\n",
    "| OTHER          | For part time members, states if main job in another university |\n",
    "| OTHER_POSITION | People who work as part time in another university and UPF members |\n",
    "| USERWIKI       | Wether a registered Wikipedia user or not |"
   ]
  },
  {
   "cell_type": "markdown",
   "metadata": {},
   "source": [
    "#### Conocimiento de las variables de aspecto"
   ]
  },
  {
   "cell_type": "code",
   "execution_count": 123,
   "metadata": {},
   "outputs": [
    {
     "data": {
      "text/html": [
       "<div>\n",
       "<style scoped>\n",
       "    .dataframe tbody tr th:only-of-type {\n",
       "        vertical-align: middle;\n",
       "    }\n",
       "\n",
       "    .dataframe tbody tr th {\n",
       "        vertical-align: top;\n",
       "    }\n",
       "\n",
       "    .dataframe thead th {\n",
       "        text-align: right;\n",
       "    }\n",
       "</style>\n",
       "<table border=\"1\" class=\"dataframe\">\n",
       "  <thead>\n",
       "    <tr style=\"text-align: right;\">\n",
       "      <th></th>\n",
       "      <th>Descripción variable</th>\n",
       "    </tr>\n",
       "  </thead>\n",
       "  <tbody>\n",
       "    <tr>\n",
       "      <th>Perceived Usefulness</th>\n",
       "      <td>PU1: The use of Wikipedia makes it easier for ...</td>\n",
       "    </tr>\n",
       "    <tr>\n",
       "      <th>Perceived Ease of Use</th>\n",
       "      <td>PEU1: Wikipedia is user-friendly,\\nPEU2: It is...</td>\n",
       "    </tr>\n",
       "    <tr>\n",
       "      <th>Perceived Enjoyment</th>\n",
       "      <td>ENJ1: The use of Wikipedia stimulates curiosit...</td>\n",
       "    </tr>\n",
       "    <tr>\n",
       "      <th>Quality</th>\n",
       "      <td>QU1: Articles in Wikipedia are reliable,\\nQU2:...</td>\n",
       "    </tr>\n",
       "    <tr>\n",
       "      <th>Visibility</th>\n",
       "      <td>VIS1: Wikipedia improves visibility of student...</td>\n",
       "    </tr>\n",
       "    <tr>\n",
       "      <th>Social Image</th>\n",
       "      <td>IM1: The use of Wikipedia is well considered a...</td>\n",
       "    </tr>\n",
       "    <tr>\n",
       "      <th>Sharing Attitude</th>\n",
       "      <td>SA1: It is important to share academic content...</td>\n",
       "    </tr>\n",
       "    <tr>\n",
       "      <th>Use Behaviour</th>\n",
       "      <td>USE1: I use Wikipedia to develop my teaching m...</td>\n",
       "    </tr>\n",
       "    <tr>\n",
       "      <th>Profile 2.0</th>\n",
       "      <td>PF1: I contribute to blogs,\\nPF2: I actively p...</td>\n",
       "    </tr>\n",
       "    <tr>\n",
       "      <th>Job relevance</th>\n",
       "      <td>JR1: My university promotes the use of open co...</td>\n",
       "    </tr>\n",
       "    <tr>\n",
       "      <th>Behavioral intention</th>\n",
       "      <td>BI1: In the future I will recommend the use of...</td>\n",
       "    </tr>\n",
       "    <tr>\n",
       "      <th>Incentives</th>\n",
       "      <td>INC1: To design educational activities using W...</td>\n",
       "    </tr>\n",
       "    <tr>\n",
       "      <th>Experience</th>\n",
       "      <td>EXP1: I consult Wikipedia for issues related t...</td>\n",
       "    </tr>\n",
       "  </tbody>\n",
       "</table>\n",
       "</div>"
      ],
      "text/plain": [
       "                                                    Descripción variable\n",
       "Perceived Usefulness   PU1: The use of Wikipedia makes it easier for ...\n",
       "Perceived Ease of Use  PEU1: Wikipedia is user-friendly,\\nPEU2: It is...\n",
       "Perceived Enjoyment    ENJ1: The use of Wikipedia stimulates curiosit...\n",
       "Quality                QU1: Articles in Wikipedia are reliable,\\nQU2:...\n",
       "Visibility             VIS1: Wikipedia improves visibility of student...\n",
       "Social Image           IM1: The use of Wikipedia is well considered a...\n",
       "Sharing Attitude       SA1: It is important to share academic content...\n",
       "Use Behaviour          USE1: I use Wikipedia to develop my teaching m...\n",
       "Profile 2.0            PF1: I contribute to blogs,\\nPF2: I actively p...\n",
       "Job relevance          JR1: My university promotes the use of open co...\n",
       "Behavioral intention   BI1: In the future I will recommend the use of...\n",
       "Incentives             INC1: To design educational activities using W...\n",
       "Experience             EXP1: I consult Wikipedia for issues related t..."
      ]
     },
     "execution_count": 123,
     "metadata": {},
     "output_type": "execute_result"
    }
   ],
   "source": [
    "var = [\"Perceived Usefulness\", \"Perceived Ease of Use\", \"Perceived Enjoyment\", \n",
    "            \"Quality\", \"Visibility\", \"Social Image\", \"Sharing Attitude\", \"Use Behaviour\",\n",
    "            \"Profile 2.0\", \"Job relevance\",\"Behavioral intention \", \"Incentives\",\"Experience\"]\n",
    "descrip = [\"\"\"PU1: The use of Wikipedia makes it easier for students to develop new skills,\n",
    "           PU2: The use of Wikipedia improves students learning,\n",
    "PU3: Wikipedia is useful for teaching \"\"\",\n",
    "                \"\"\"PEU1: Wikipedia is user-friendly,\n",
    "PEU2: It is easy to find in Wikipedia the information you seek,\n",
    "PEU3: It is easy to add or edit information in Wikipedia \\n\"\"\",\n",
    "                \"\"\"ENJ1: The use of Wikipedia stimulates curiosity ,\n",
    "ENJ2: The use of Wikipedia is entertaining \"\"\",\n",
    "                \"\"\"QU1: Articles in Wikipedia are reliable,\n",
    "QU2: Articles in Wikipedia are updated ,\n",
    "QU3: Articles in Wikipedia are comprehensive,\n",
    "QU4: In my area of expertise, Wikipedia has a lower quality than other educational resources,\n",
    "QU5: I trust in the editing system of Wikipedia \"\"\", \n",
    "                \"\"\"VIS1: Wikipedia improves visibility of students' work,\n",
    "VIS2: It is easy to have a record of the contributions made in Wikipedia,\n",
    "VIS3: I cite Wikipedia in my academic papers \"\"\",\n",
    "                \"\"\"IM1: The use of Wikipedia is well considered among colleagues,\n",
    "IM2: In academia, sharing open educational resources is appreciated,\n",
    "IM3: My colleagues use Wikipedia \"\"\", \n",
    "                \"\"\"SA1: It is important to share academic content in open platforms,\n",
    "SA2: It is important to publish research results in other media than academic journals or books,\n",
    "SA3: It is important that students become familiar with online collaborative environments \"\"\", \n",
    "                \"\"\"USE1: I use Wikipedia to develop my teaching materials,\n",
    "USE2: I use Wikipedia as a platform to develop educational activities with students,\n",
    "USE3: I recommend my students to use Wikipedia,\n",
    "USE4: I recommend my colleagues to use Wikipedia,\n",
    "USE5: I agree my students use Wikipedia in my courses \"\"\", \n",
    "                \"\"\"PF1: I contribute to blogs,\n",
    "PF2: I actively participate in social networks,\n",
    "PF3: I publish academic content in open platforms \"\"\", \n",
    "               \"\"\"JR1: My university promotes the use of open collaborative environments in the Internet,\n",
    "JR2: My university considers the use of open collaborative environments in the Internet as a teaching merit \"\"\",\n",
    "                \"\"\"BI1: In the future I will recommend the use of Wikipedia to my colleagues and students,\n",
    "BI2: In the future I will use Wikipedia in my teaching activity \"\"\",\n",
    "                \"\"\"INC1: To design educational activities using Wikipedia, it would be helpful: a best practices guide,\n",
    "INC2: To design educational activities using Wikipedia, it would be helpful: getting instruction from a colleague,\n",
    "INC3: To design educational activities using Wikipedia, it would be helpful: getting specific training,\n",
    "INC4: To design educational activities using Wikipedia, it would be helpfull: greater institutional recognition \"\"\",\n",
    "                \"\"\"EXP1: I consult Wikipedia for issues related to my field of expertise,\n",
    "EXP2: I consult Wikipedia for other academic related issues,\n",
    "EXP3: I consult Wikipedia for personal issues,\n",
    "EXP4: I contribute to Wikipedia (editions, revisions, articles improvement...) ,\n",
    "EXP5: I use wikis to work with my students\"\"\"]\n",
    "pd.DataFrame(descrip, var, columns=['Descripción variable'])"
   ]
  },
  {
   "cell_type": "markdown",
   "metadata": {},
   "source": [
    "# 3 Limpieza de los datos."
   ]
  },
  {
   "cell_type": "markdown",
   "metadata": {},
   "source": [
    "## 3.1 ¿Los datos contienen ceros o elementos vacíos? ¿Cómo gestionarías cada uno de estos casos?"
   ]
  },
  {
   "cell_type": "markdown",
   "metadata": {},
   "source": [
    "#### Validación de Nulos y valores perdidos"
   ]
  },
  {
   "cell_type": "markdown",
   "metadata": {},
   "source": [
    "Se ha realizado una función que obtiene los valores nulos y su proporción con respecto al dataset"
   ]
  },
  {
   "cell_type": "code",
   "execution_count": 124,
   "metadata": {},
   "outputs": [
    {
     "name": "stdout",
     "output_type": "stream",
     "text": [
      "El data frame tiene 53 columnas y 913 filas.\n",
      "Hay 0 columnas que tienen valores perdidos.\n"
     ]
    },
    {
     "data": {
      "text/html": [
       "<div>\n",
       "<style scoped>\n",
       "    .dataframe tbody tr th:only-of-type {\n",
       "        vertical-align: middle;\n",
       "    }\n",
       "\n",
       "    .dataframe tbody tr th {\n",
       "        vertical-align: top;\n",
       "    }\n",
       "\n",
       "    .dataframe thead th {\n",
       "        text-align: right;\n",
       "    }\n",
       "</style>\n",
       "<table border=\"1\" class=\"dataframe\">\n",
       "  <thead>\n",
       "    <tr style=\"text-align: right;\">\n",
       "      <th></th>\n",
       "      <th>Valores_perdidos</th>\n",
       "      <th>Valores_Perd_Porc</th>\n",
       "      <th>Tipo_dato</th>\n",
       "    </tr>\n",
       "  </thead>\n",
       "  <tbody>\n",
       "  </tbody>\n",
       "</table>\n",
       "</div>"
      ],
      "text/plain": [
       "Empty DataFrame\n",
       "Columns: [Valores_perdidos, Valores_Perd_Porc, Tipo_dato]\n",
       "Index: []"
      ]
     },
     "execution_count": 124,
     "metadata": {},
     "output_type": "execute_result"
    }
   ],
   "source": [
    "nas(data)"
   ]
  },
  {
   "cell_type": "markdown",
   "metadata": {},
   "source": [
    "#### Cantidad de Variables con valores atípicos"
   ]
  },
  {
   "cell_type": "markdown",
   "metadata": {},
   "source": [
    "En una primera impresión, se resalta que los datos cuentan con un valor atípico ('?'), el cual inicialmente no es capturado por funciones de identificación de nan. Por esto, se realizó una búsqueda con _isin_ para obtener todas aquellas columnas con estos valores:"
   ]
  },
  {
   "cell_type": "code",
   "execution_count": 125,
   "metadata": {
    "scrolled": true
   },
   "outputs": [
    {
     "name": "stdout",
     "output_type": "stream",
     "text": [
      "AGE                 0\n",
      "GENDER              0\n",
      "DOMAIN              2\n",
      "PhD                 0\n",
      "YEARSEXP           23\n",
      "UNIVERSITY          0\n",
      "UOC_POSITION      113\n",
      "OTHER_POSITION    261\n",
      "OTHERSTATUS       540\n",
      "USERWIKI            4\n",
      "PU1                 7\n",
      "PU2                11\n",
      "PU3                 5\n",
      "PEU1                4\n",
      "PEU2               14\n",
      "PEU3               97\n",
      "ENJ1                7\n",
      "ENJ2               17\n",
      "Qu1                 7\n",
      "Qu2                10\n",
      "Qu3                15\n",
      "Qu4                22\n",
      "Qu5                29\n",
      "Vis1               72\n",
      "Vis2              117\n",
      "Vis3                8\n",
      "Im1                22\n",
      "Im2                20\n",
      "Im3                57\n",
      "SA1                11\n",
      "SA2                12\n",
      "SA3                11\n",
      "Use1               14\n",
      "Use2               17\n",
      "Use3                9\n",
      "Use4               23\n",
      "Use5               15\n",
      "Pf1                11\n",
      "Pf2                 6\n",
      "Pf3                14\n",
      "JR1                27\n",
      "JR2                53\n",
      "BI1                32\n",
      "BI2                43\n",
      "Inc1               35\n",
      "Inc2               35\n",
      "Inc3               37\n",
      "Inc4               42\n",
      "Exp1               13\n",
      "Exp2               11\n",
      "Exp3               13\n",
      "Exp4               14\n",
      "Exp5               13\n",
      "dtype: int64\n"
     ]
    }
   ],
   "source": [
    "print(data[data.isin(['?'])].dropna(how='all').count())"
   ]
  },
  {
   "cell_type": "markdown",
   "metadata": {},
   "source": [
    "Como se pudó observar en el anterior paso, algunas variables cuentan con valores \"?\", por lo que a continuación se presenta un conteo por variable:"
   ]
  },
  {
   "cell_type": "code",
   "execution_count": 126,
   "metadata": {
    "scrolled": true
   },
   "outputs": [
    {
     "name": "stdout",
     "output_type": "stream",
     "text": [
      "  GENDER  cantidad\n",
      "0      0       525\n",
      "1      1       388\n",
      "  DOMAIN  cantidad\n",
      "0      1       183\n",
      "1      2        56\n",
      "2      3        73\n",
      "3      4       137\n",
      "4      5       101\n",
      "5      6       361\n",
      "6      ?         2\n",
      "  PhD  cantidad\n",
      "0   0       489\n",
      "1   1       424\n",
      "  UNIVERSITY  cantidad\n",
      "0          1       800\n",
      "1          2       113\n",
      "  UOC_POSITION  cantidad\n",
      "0            1         3\n",
      "1            2        68\n",
      "2            3        50\n",
      "3            4        18\n",
      "4            5         2\n",
      "5            6       659\n",
      "6            ?       113\n",
      "  OTHER_POSITION  cantidad\n",
      "0              1       268\n",
      "1              2       384\n",
      "2              ?       261\n",
      "  OTHERSTATUS  cantidad\n",
      "0           1        19\n",
      "1           2       130\n",
      "2           3        24\n",
      "3           4        36\n",
      "4           5        16\n",
      "5           6        41\n",
      "6           7       107\n",
      "7           ?       540\n",
      "  USERWIKI  cantidad\n",
      "0        0       784\n",
      "1        1       125\n",
      "2        ?         4\n",
      "  PU1  cantidad\n",
      "0   1        35\n",
      "1   2       216\n",
      "2   3       330\n",
      "3   4       239\n",
      "4   5        86\n",
      "5   ?         7\n",
      "  PU2  cantidad\n",
      "0   1        33\n",
      "1   2       205\n",
      "2   3       339\n",
      "3   4       244\n",
      "4   5        81\n",
      "5   ?        11\n",
      "  PU3  cantidad\n",
      "0   1        20\n",
      "1   2       151\n",
      "2   3       312\n",
      "3   4       250\n",
      "4   5       175\n",
      "5   ?         5\n",
      "  PEU1  cantidad\n",
      "0    1         3\n",
      "1    2        21\n",
      "2    3        91\n",
      "3    4       328\n",
      "4    5       466\n",
      "5    ?         4\n",
      "  PEU2  cantidad\n",
      "0    1         3\n",
      "1    2        35\n",
      "2    3       166\n",
      "3    4       409\n",
      "4    5       286\n",
      "5    ?        14\n",
      "  PEU3  cantidad\n",
      "0    1        17\n",
      "1    2        97\n",
      "2    3       355\n",
      "3    4       250\n",
      "4    5        97\n",
      "5    ?        97\n",
      "  ENJ1  cantidad\n",
      "0    1        19\n",
      "1    2        72\n",
      "2    3       207\n",
      "3    4       386\n",
      "4    5       222\n",
      "5    ?         7\n",
      "  ENJ2  cantidad\n",
      "0    1         4\n",
      "1    2        66\n",
      "2    3       224\n",
      "3    4       394\n",
      "4    5       208\n",
      "5    ?        17\n",
      "  Qu1  cantidad\n",
      "0   1        24\n",
      "1   2       163\n",
      "2   3       371\n",
      "3   4       308\n",
      "4   5        40\n",
      "5   ?         7\n",
      "  Qu2  cantidad\n",
      "0   1        11\n",
      "1   2       114\n",
      "2   3       341\n",
      "3   4       357\n",
      "4   5        80\n",
      "5   ?        10\n",
      "  Qu3  cantidad\n",
      "0   1        28\n",
      "1   2       236\n",
      "2   3       389\n",
      "3   4       215\n",
      "4   5        30\n",
      "5   ?        15\n",
      "  Qu4  cantidad\n",
      "0   1        39\n",
      "1   2       196\n",
      "2   3       298\n",
      "3   4       230\n",
      "4   5       128\n",
      "5   ?        22\n",
      "  Qu5  cantidad\n",
      "0   1        54\n",
      "1   2       183\n",
      "2   3       366\n",
      "3   4       234\n",
      "4   5        47\n",
      "5   ?        29\n",
      "  Vis1  cantidad\n",
      "0    1        49\n",
      "1    2       190\n",
      "2    3       396\n",
      "3    4       170\n",
      "4    5        36\n",
      "5    ?        72\n",
      "  Vis2  cantidad\n",
      "0    1        25\n",
      "1    2       145\n",
      "2    3       422\n",
      "3    4       158\n",
      "4    5        46\n",
      "5    ?       117\n",
      "  Vis3  cantidad\n",
      "0    1       406\n",
      "1    2       222\n",
      "2    3       161\n",
      "3    4        79\n",
      "4    5        37\n",
      "5    ?         8\n",
      "  Im1  cantidad\n",
      "0   1       139\n",
      "1   2       335\n",
      "2   3       294\n",
      "3   4        98\n",
      "4   5        25\n",
      "5   ?        22\n",
      "  Im2  cantidad\n",
      "0   1        34\n",
      "1   2       181\n",
      "2   3       273\n",
      "3   4       298\n",
      "4   5       107\n",
      "5   ?        20\n",
      "  Im3  cantidad\n",
      "0   1        73\n",
      "1   2       218\n",
      "2   3       342\n",
      "3   4       178\n",
      "4   5        45\n",
      "5   ?        57\n",
      "  SA1  cantidad\n",
      "0   1         5\n",
      "1   2        26\n",
      "2   3       142\n",
      "3   4       348\n",
      "4   5       381\n",
      "5   ?        11\n",
      "  SA2  cantidad\n",
      "0   1        13\n",
      "1   2        50\n",
      "2   3       140\n",
      "3   4       302\n",
      "4   5       396\n",
      "5   ?        12\n",
      "  SA3  cantidad\n",
      "0   1         4\n",
      "1   2        21\n",
      "2   3        96\n",
      "3   4       285\n",
      "4   5       496\n",
      "5   ?        11\n",
      "  Use1  cantidad\n",
      "0    1       329\n",
      "1    2       272\n",
      "2    3       191\n",
      "3    4        79\n",
      "4    5        28\n",
      "5    ?        14\n",
      "  Use2  cantidad\n",
      "0    1       471\n",
      "1    2       207\n",
      "2    3       137\n",
      "3    4        60\n",
      "4    5        21\n",
      "5    ?        17\n",
      "  Use3  cantidad\n",
      "0    1       194\n",
      "1    2       226\n",
      "2    3       238\n",
      "3    4       184\n",
      "4    5        62\n",
      "5    ?         9\n",
      "  Use4  cantidad\n",
      "0    1       212\n",
      "1    2       232\n",
      "2    3       237\n",
      "3    4       159\n",
      "4    5        50\n",
      "5    ?        23\n",
      "  Use5  cantidad\n",
      "0    1        55\n",
      "1    2       152\n",
      "2    3       278\n",
      "3    4       290\n",
      "4    5       123\n",
      "5    ?        15\n",
      "  Pf1  cantidad\n",
      "0   1       340\n",
      "1   2       218\n",
      "2   3       169\n",
      "3   4       107\n",
      "4   5        68\n",
      "5   ?        11\n",
      "  Pf2  cantidad\n",
      "0   1       167\n",
      "1   2       223\n",
      "2   3       215\n",
      "3   4       173\n",
      "4   5       129\n",
      "5   ?         6\n",
      "  Pf3  cantidad\n",
      "0   1       257\n",
      "1   2       199\n",
      "2   3       212\n",
      "3   4       153\n",
      "4   5        78\n",
      "5   ?        14\n",
      "  JR1  cantidad\n",
      "0   1        32\n",
      "1   2        98\n",
      "2   3       203\n",
      "3   4       325\n",
      "4   5       228\n",
      "5   ?        27\n",
      "  JR2  cantidad\n",
      "0   1       105\n",
      "1   2       146\n",
      "2   3       277\n",
      "3   4       215\n",
      "4   5       117\n",
      "5   ?        53\n",
      "  BI1  cantidad\n",
      "0   1        80\n",
      "1   2       206\n",
      "2   3       344\n",
      "3   4       178\n",
      "4   5        73\n",
      "5   ?        32\n",
      "  BI2  cantidad\n",
      "0   1        84\n",
      "1   2       207\n",
      "2   3       298\n",
      "3   4       196\n",
      "4   5        85\n",
      "5   ?        43\n",
      "  Inc1  cantidad\n",
      "0    1        47\n",
      "1    2        62\n",
      "2    3       209\n",
      "3    4       309\n",
      "4    5       251\n",
      "5    ?        35\n",
      "  Inc2  cantidad\n",
      "0    1        55\n",
      "1    2       113\n",
      "2    3       260\n",
      "3    4       272\n",
      "4    5       178\n",
      "5    ?        35\n",
      "  Inc3  cantidad\n",
      "0    1        55\n",
      "1    2       127\n",
      "2    3       257\n",
      "3    4       250\n",
      "4    5       187\n",
      "5    ?        37\n",
      "  Inc4  cantidad\n",
      "0    1        67\n",
      "1    2       102\n",
      "2    3       249\n",
      "3    4       243\n",
      "4    5       210\n",
      "5    ?        42\n",
      "  Exp1  cantidad\n",
      "0    1       102\n",
      "1    2       232\n",
      "2    3       223\n",
      "3    4       249\n",
      "4    5        94\n",
      "5    ?        13\n",
      "  Exp2  cantidad\n",
      "0    1        46\n",
      "1    2       135\n",
      "2    3       222\n",
      "3    4       327\n",
      "4    5       172\n",
      "5    ?        11\n",
      "  Exp3  cantidad\n",
      "0    1        37\n",
      "1    2       126\n",
      "2    3       174\n",
      "3    4       340\n",
      "4    5       223\n",
      "5    ?        13\n",
      "  Exp4  cantidad\n",
      "0    1       580\n",
      "1    2       176\n",
      "2    3        91\n",
      "3    4        37\n",
      "4    5        15\n",
      "5    ?        14\n",
      "  Exp5  cantidad\n",
      "0    1       292\n",
      "1    2       210\n",
      "2    3       153\n",
      "3    4       158\n",
      "4    5        87\n",
      "5    ?        13\n"
     ]
    }
   ],
   "source": [
    "for col in data.loc[:, ~data.columns.isin(vars_no_category)].columns:\n",
    "    print(data.groupby([col]).size().reset_index(name='cantidad'))"
   ]
  },
  {
   "cell_type": "markdown",
   "metadata": {},
   "source": []
  },
  {
   "cell_type": "markdown",
   "metadata": {},
   "source": [
    "Una vez comprendido que los valores perdidos han sido etiquetados con un caracter especial, se procede a reemplazarlo con _nan_ con el fin de hacer uso de la función de valores perdidos y su proporción en el dataset:"
   ]
  },
  {
   "cell_type": "code",
   "execution_count": 127,
   "metadata": {
    "scrolled": false
   },
   "outputs": [
    {
     "name": "stdout",
     "output_type": "stream",
     "text": [
      "El data frame tiene 53 columnas y 913 filas.\n",
      "Hay 49 columnas que tienen valores perdidos.\n"
     ]
    },
    {
     "data": {
      "text/html": [
       "<div>\n",
       "<style scoped>\n",
       "    .dataframe tbody tr th:only-of-type {\n",
       "        vertical-align: middle;\n",
       "    }\n",
       "\n",
       "    .dataframe tbody tr th {\n",
       "        vertical-align: top;\n",
       "    }\n",
       "\n",
       "    .dataframe thead th {\n",
       "        text-align: right;\n",
       "    }\n",
       "</style>\n",
       "<table border=\"1\" class=\"dataframe\">\n",
       "  <thead>\n",
       "    <tr style=\"text-align: right;\">\n",
       "      <th></th>\n",
       "      <th>Valores_perdidos</th>\n",
       "      <th>Valores_Perd_Porc</th>\n",
       "      <th>Tipo_dato</th>\n",
       "    </tr>\n",
       "  </thead>\n",
       "  <tbody>\n",
       "    <tr>\n",
       "      <th>OTHERSTATUS</th>\n",
       "      <td>540</td>\n",
       "      <td>59.1</td>\n",
       "      <td>category</td>\n",
       "    </tr>\n",
       "    <tr>\n",
       "      <th>OTHER_POSITION</th>\n",
       "      <td>261</td>\n",
       "      <td>28.6</td>\n",
       "      <td>category</td>\n",
       "    </tr>\n",
       "    <tr>\n",
       "      <th>Vis2</th>\n",
       "      <td>117</td>\n",
       "      <td>12.8</td>\n",
       "      <td>category</td>\n",
       "    </tr>\n",
       "    <tr>\n",
       "      <th>UOC_POSITION</th>\n",
       "      <td>113</td>\n",
       "      <td>12.4</td>\n",
       "      <td>category</td>\n",
       "    </tr>\n",
       "    <tr>\n",
       "      <th>PEU3</th>\n",
       "      <td>97</td>\n",
       "      <td>10.6</td>\n",
       "      <td>category</td>\n",
       "    </tr>\n",
       "    <tr>\n",
       "      <th>Vis1</th>\n",
       "      <td>72</td>\n",
       "      <td>7.9</td>\n",
       "      <td>category</td>\n",
       "    </tr>\n",
       "    <tr>\n",
       "      <th>Im3</th>\n",
       "      <td>57</td>\n",
       "      <td>6.2</td>\n",
       "      <td>category</td>\n",
       "    </tr>\n",
       "    <tr>\n",
       "      <th>JR2</th>\n",
       "      <td>53</td>\n",
       "      <td>5.8</td>\n",
       "      <td>category</td>\n",
       "    </tr>\n",
       "    <tr>\n",
       "      <th>BI2</th>\n",
       "      <td>43</td>\n",
       "      <td>4.7</td>\n",
       "      <td>category</td>\n",
       "    </tr>\n",
       "    <tr>\n",
       "      <th>Inc4</th>\n",
       "      <td>42</td>\n",
       "      <td>4.6</td>\n",
       "      <td>category</td>\n",
       "    </tr>\n",
       "    <tr>\n",
       "      <th>Inc3</th>\n",
       "      <td>37</td>\n",
       "      <td>4.1</td>\n",
       "      <td>category</td>\n",
       "    </tr>\n",
       "    <tr>\n",
       "      <th>Inc2</th>\n",
       "      <td>35</td>\n",
       "      <td>3.8</td>\n",
       "      <td>category</td>\n",
       "    </tr>\n",
       "    <tr>\n",
       "      <th>Inc1</th>\n",
       "      <td>35</td>\n",
       "      <td>3.8</td>\n",
       "      <td>category</td>\n",
       "    </tr>\n",
       "    <tr>\n",
       "      <th>BI1</th>\n",
       "      <td>32</td>\n",
       "      <td>3.5</td>\n",
       "      <td>category</td>\n",
       "    </tr>\n",
       "    <tr>\n",
       "      <th>Qu5</th>\n",
       "      <td>29</td>\n",
       "      <td>3.2</td>\n",
       "      <td>category</td>\n",
       "    </tr>\n",
       "    <tr>\n",
       "      <th>JR1</th>\n",
       "      <td>27</td>\n",
       "      <td>3.0</td>\n",
       "      <td>category</td>\n",
       "    </tr>\n",
       "    <tr>\n",
       "      <th>Use4</th>\n",
       "      <td>23</td>\n",
       "      <td>2.5</td>\n",
       "      <td>category</td>\n",
       "    </tr>\n",
       "    <tr>\n",
       "      <th>YEARSEXP</th>\n",
       "      <td>23</td>\n",
       "      <td>2.5</td>\n",
       "      <td>object</td>\n",
       "    </tr>\n",
       "    <tr>\n",
       "      <th>Qu4</th>\n",
       "      <td>22</td>\n",
       "      <td>2.4</td>\n",
       "      <td>category</td>\n",
       "    </tr>\n",
       "    <tr>\n",
       "      <th>Im1</th>\n",
       "      <td>22</td>\n",
       "      <td>2.4</td>\n",
       "      <td>category</td>\n",
       "    </tr>\n",
       "    <tr>\n",
       "      <th>Im2</th>\n",
       "      <td>20</td>\n",
       "      <td>2.2</td>\n",
       "      <td>category</td>\n",
       "    </tr>\n",
       "    <tr>\n",
       "      <th>ENJ2</th>\n",
       "      <td>17</td>\n",
       "      <td>1.9</td>\n",
       "      <td>category</td>\n",
       "    </tr>\n",
       "    <tr>\n",
       "      <th>Use2</th>\n",
       "      <td>17</td>\n",
       "      <td>1.9</td>\n",
       "      <td>category</td>\n",
       "    </tr>\n",
       "    <tr>\n",
       "      <th>Use5</th>\n",
       "      <td>15</td>\n",
       "      <td>1.6</td>\n",
       "      <td>category</td>\n",
       "    </tr>\n",
       "    <tr>\n",
       "      <th>Qu3</th>\n",
       "      <td>15</td>\n",
       "      <td>1.6</td>\n",
       "      <td>category</td>\n",
       "    </tr>\n",
       "    <tr>\n",
       "      <th>PEU2</th>\n",
       "      <td>14</td>\n",
       "      <td>1.5</td>\n",
       "      <td>category</td>\n",
       "    </tr>\n",
       "    <tr>\n",
       "      <th>Exp4</th>\n",
       "      <td>14</td>\n",
       "      <td>1.5</td>\n",
       "      <td>category</td>\n",
       "    </tr>\n",
       "    <tr>\n",
       "      <th>Pf3</th>\n",
       "      <td>14</td>\n",
       "      <td>1.5</td>\n",
       "      <td>category</td>\n",
       "    </tr>\n",
       "    <tr>\n",
       "      <th>Use1</th>\n",
       "      <td>14</td>\n",
       "      <td>1.5</td>\n",
       "      <td>category</td>\n",
       "    </tr>\n",
       "    <tr>\n",
       "      <th>Exp1</th>\n",
       "      <td>13</td>\n",
       "      <td>1.4</td>\n",
       "      <td>category</td>\n",
       "    </tr>\n",
       "    <tr>\n",
       "      <th>Exp3</th>\n",
       "      <td>13</td>\n",
       "      <td>1.4</td>\n",
       "      <td>category</td>\n",
       "    </tr>\n",
       "    <tr>\n",
       "      <th>Exp5</th>\n",
       "      <td>13</td>\n",
       "      <td>1.4</td>\n",
       "      <td>category</td>\n",
       "    </tr>\n",
       "    <tr>\n",
       "      <th>SA2</th>\n",
       "      <td>12</td>\n",
       "      <td>1.3</td>\n",
       "      <td>category</td>\n",
       "    </tr>\n",
       "    <tr>\n",
       "      <th>PU2</th>\n",
       "      <td>11</td>\n",
       "      <td>1.2</td>\n",
       "      <td>category</td>\n",
       "    </tr>\n",
       "    <tr>\n",
       "      <th>SA3</th>\n",
       "      <td>11</td>\n",
       "      <td>1.2</td>\n",
       "      <td>category</td>\n",
       "    </tr>\n",
       "    <tr>\n",
       "      <th>SA1</th>\n",
       "      <td>11</td>\n",
       "      <td>1.2</td>\n",
       "      <td>category</td>\n",
       "    </tr>\n",
       "    <tr>\n",
       "      <th>Pf1</th>\n",
       "      <td>11</td>\n",
       "      <td>1.2</td>\n",
       "      <td>category</td>\n",
       "    </tr>\n",
       "    <tr>\n",
       "      <th>Exp2</th>\n",
       "      <td>11</td>\n",
       "      <td>1.2</td>\n",
       "      <td>category</td>\n",
       "    </tr>\n",
       "    <tr>\n",
       "      <th>Qu2</th>\n",
       "      <td>10</td>\n",
       "      <td>1.1</td>\n",
       "      <td>category</td>\n",
       "    </tr>\n",
       "    <tr>\n",
       "      <th>Use3</th>\n",
       "      <td>9</td>\n",
       "      <td>1.0</td>\n",
       "      <td>category</td>\n",
       "    </tr>\n",
       "    <tr>\n",
       "      <th>Vis3</th>\n",
       "      <td>8</td>\n",
       "      <td>0.9</td>\n",
       "      <td>category</td>\n",
       "    </tr>\n",
       "    <tr>\n",
       "      <th>PU1</th>\n",
       "      <td>7</td>\n",
       "      <td>0.8</td>\n",
       "      <td>category</td>\n",
       "    </tr>\n",
       "    <tr>\n",
       "      <th>Qu1</th>\n",
       "      <td>7</td>\n",
       "      <td>0.8</td>\n",
       "      <td>category</td>\n",
       "    </tr>\n",
       "    <tr>\n",
       "      <th>ENJ1</th>\n",
       "      <td>7</td>\n",
       "      <td>0.8</td>\n",
       "      <td>category</td>\n",
       "    </tr>\n",
       "    <tr>\n",
       "      <th>Pf2</th>\n",
       "      <td>6</td>\n",
       "      <td>0.7</td>\n",
       "      <td>category</td>\n",
       "    </tr>\n",
       "    <tr>\n",
       "      <th>PU3</th>\n",
       "      <td>5</td>\n",
       "      <td>0.5</td>\n",
       "      <td>category</td>\n",
       "    </tr>\n",
       "    <tr>\n",
       "      <th>PEU1</th>\n",
       "      <td>4</td>\n",
       "      <td>0.4</td>\n",
       "      <td>category</td>\n",
       "    </tr>\n",
       "    <tr>\n",
       "      <th>USERWIKI</th>\n",
       "      <td>4</td>\n",
       "      <td>0.4</td>\n",
       "      <td>category</td>\n",
       "    </tr>\n",
       "    <tr>\n",
       "      <th>DOMAIN</th>\n",
       "      <td>2</td>\n",
       "      <td>0.2</td>\n",
       "      <td>category</td>\n",
       "    </tr>\n",
       "  </tbody>\n",
       "</table>\n",
       "</div>"
      ],
      "text/plain": [
       "                Valores_perdidos  Valores_Perd_Porc Tipo_dato\n",
       "OTHERSTATUS                  540               59.1  category\n",
       "OTHER_POSITION               261               28.6  category\n",
       "Vis2                         117               12.8  category\n",
       "UOC_POSITION                 113               12.4  category\n",
       "PEU3                          97               10.6  category\n",
       "Vis1                          72                7.9  category\n",
       "Im3                           57                6.2  category\n",
       "JR2                           53                5.8  category\n",
       "BI2                           43                4.7  category\n",
       "Inc4                          42                4.6  category\n",
       "Inc3                          37                4.1  category\n",
       "Inc2                          35                3.8  category\n",
       "Inc1                          35                3.8  category\n",
       "BI1                           32                3.5  category\n",
       "Qu5                           29                3.2  category\n",
       "JR1                           27                3.0  category\n",
       "Use4                          23                2.5  category\n",
       "YEARSEXP                      23                2.5    object\n",
       "Qu4                           22                2.4  category\n",
       "Im1                           22                2.4  category\n",
       "Im2                           20                2.2  category\n",
       "ENJ2                          17                1.9  category\n",
       "Use2                          17                1.9  category\n",
       "Use5                          15                1.6  category\n",
       "Qu3                           15                1.6  category\n",
       "PEU2                          14                1.5  category\n",
       "Exp4                          14                1.5  category\n",
       "Pf3                           14                1.5  category\n",
       "Use1                          14                1.5  category\n",
       "Exp1                          13                1.4  category\n",
       "Exp3                          13                1.4  category\n",
       "Exp5                          13                1.4  category\n",
       "SA2                           12                1.3  category\n",
       "PU2                           11                1.2  category\n",
       "SA3                           11                1.2  category\n",
       "SA1                           11                1.2  category\n",
       "Pf1                           11                1.2  category\n",
       "Exp2                          11                1.2  category\n",
       "Qu2                           10                1.1  category\n",
       "Use3                           9                1.0  category\n",
       "Vis3                           8                0.9  category\n",
       "PU1                            7                0.8  category\n",
       "Qu1                            7                0.8  category\n",
       "ENJ1                           7                0.8  category\n",
       "Pf2                            6                0.7  category\n",
       "PU3                            5                0.5  category\n",
       "PEU1                           4                0.4  category\n",
       "USERWIKI                       4                0.4  category\n",
       "DOMAIN                         2                0.2  category"
      ]
     },
     "execution_count": 127,
     "metadata": {},
     "output_type": "execute_result"
    }
   ],
   "source": [
    "data = data.replace('?', np.nan)\n",
    "nas(data)"
   ]
  },
  {
   "cell_type": "markdown",
   "metadata": {},
   "source": [
    "Como se puede observar, existen 49 variables con valores perdidos; siendo _OTHERSTATUS_ la variable con mayor datos perdidos, alcanzando un 59.1% de datos perdidos con respecto al dataset."
   ]
  },
  {
   "cell_type": "markdown",
   "metadata": {},
   "source": [
    "#### Estimación de filas a eliminar\n",
    "Cálculo de las filas que nos quedarían si eliminamos las filas con algún NAN en aquellas variables con menos de un 10% de NA:"
   ]
  },
  {
   "cell_type": "code",
   "execution_count": 128,
   "metadata": {},
   "outputs": [
    {
     "name": "stdout",
     "output_type": "stream",
     "text": [
      "El data frame tiene 53 columnas y 913 filas.\n",
      "Hay 49 columnas que tienen valores perdidos.\n",
      "Para un 10% eliminaríamos el  30.339539978094194 % de las filas.\n",
      "Para un 7% eliminaríamos el  28.14895947426068 % de las filas.\n",
      "Para un 5% eliminaríamos el  26.50602409638554 % de las filas.\n",
      "Para un 2% eliminaríamos el  15.443592552026287 % de las filas.\n"
     ]
    }
   ],
   "source": [
    "dataNAS = nas(data)\n",
    "\n",
    "print(\"Para un 10% eliminaríamos el \",\n",
    "      numNANrowsUnder(dataNAS, percentLimitToDrop=10)*100/data.shape[0], \"% de las filas.\")\n",
    "print(\"Para un 7% eliminaríamos el \",\n",
    "      numNANrowsUnder(dataNAS, percentLimitToDrop=7)*100/data.shape[0], \"% de las filas.\")\n",
    "print(\"Para un 5% eliminaríamos el \",\n",
    "      numNANrowsUnder(dataNAS, percentLimitToDrop=5)*100/data.shape[0], \"% de las filas.\")\n",
    "print(\"Para un 2% eliminaríamos el \",\n",
    "      numNANrowsUnder(dataNAS, percentLimitToDrop=2)*100/data.shape[0], \"% de las filas.\")\n"
   ]
  },
  {
   "cell_type": "markdown",
   "metadata": {},
   "source": [
    "#### Conversión de tipos de variables\n",
    "Convertimos a numérico YEARSEXP y a boleano USERWIKI y PhD."
   ]
  },
  {
   "cell_type": "code",
   "execution_count": 129,
   "metadata": {},
   "outputs": [],
   "source": [
    "# Convertir años de experiencia a numérico\n",
    "data.YEARSEXP = pd.to_numeric(data.YEARSEXP).copy()\n",
    "\n",
    "# Convertir PhD a booleano\n",
    "data.PhD = data.PhD.astype(\"bool\")\n",
    "\n",
    "# Para convertir USERWIKI a booleano eliminaremos los 4 casos que no respondieron a esta pregunta.\n",
    "data = data.dropna(subset=['USERWIKI']).copy()\n",
    "data.USERWIKI = data.USERWIKI.astype(\"bool\")"
   ]
  },
  {
   "cell_type": "markdown",
   "metadata": {},
   "source": [
    "#### Gestión de los valores perdidos\n",
    "Dado que los datos provienen de un cuestionario online, y que no existen preguntas llave ni combinaciones de respuestas incompatibles, suponemos que todos los valores perdidos son preguntas sin contestar.\n",
    "\n",
    "##### Variables demográficas\n",
    "**USERWIKI**\n",
    "Como hemos visto en el apartado anterior, los 4 registros que incluían valores perdidos en la variable USERWIKI han sido eliminados.\n",
    "\n",
    "**OTHERSTATUS** y **OTHER_POSITION** Estas dos variables presentan un rango de valores en los datos diferente al proporcionado en el codebook que acompaña al dataset. No cabe una interpretación clara de un error de transcripción o error tipográfico, por lo que se decide eliminar ambas variables."
   ]
  },
  {
   "cell_type": "code",
   "execution_count": 130,
   "metadata": {},
   "outputs": [],
   "source": [
    "data = data.drop(columns=['OTHERSTATUS', 'OTHER_POSITION']).copy()"
   ]
  },
  {
   "cell_type": "markdown",
   "metadata": {},
   "source": [
    "**UOC_POSITION** y **DOMAIN** Al rango de valores inicial (números enteros 1 y 2) se añade el 0, que codificará para \"No responde.\""
   ]
  },
  {
   "cell_type": "code",
   "execution_count": 131,
   "metadata": {},
   "outputs": [],
   "source": [
    "data.UOC_POSITION = data.UOC_POSITION.cat.remove_unused_categories().copy()\n",
    "data.UOC_POSITION = data.UOC_POSITION.cat.set_categories([\"0\", \"1\", \"2\"]).copy()\n",
    "data.UOC_POSITION[data.UOC_POSITION.isna()] = \"0\"\n",
    "\n",
    "data.DOMAIN = data.DOMAIN.cat.set_categories([\"0\", \"1\", \"2\", \"3\", \"4\", \"5\", \"6\"]).copy()\n",
    "data.DOMAIN[data.DOMAIN.isna()] = \"0\" "
   ]
  },
  {
   "cell_type": "markdown",
   "metadata": {},
   "source": [
    "**YEARSEXP** Vemos que la mediana de los datos es representativa y usamos este valor para imputar los valores perdidos."
   ]
  },
  {
   "cell_type": "code",
   "execution_count": 132,
   "metadata": {},
   "outputs": [
    {
     "name": "stdout",
     "output_type": "stream",
     "text": [
      "count    886.000000\n",
      "mean      10.887133\n",
      "std        7.463108\n",
      "min        0.000000\n",
      "25%        5.000000\n",
      "50%       10.000000\n",
      "75%       15.000000\n",
      "max       43.000000\n",
      "Name: YEARSEXP, dtype: float64\n"
     ]
    },
    {
     "name": "stderr",
     "output_type": "stream",
     "text": [
      "/opt/conda/lib/python3.7/site-packages/ipykernel_launcher.py:3: SettingWithCopyWarning: \n",
      "A value is trying to be set on a copy of a slice from a DataFrame\n",
      "\n",
      "See the caveats in the documentation: http://pandas.pydata.org/pandas-docs/stable/user_guide/indexing.html#returning-a-view-versus-a-copy\n",
      "  This is separate from the ipykernel package so we can avoid doing imports until\n"
     ]
    },
    {
     "data": {
      "image/png": "[encoded data removed]",
      "text/plain": [
       "<Figure size 432x288 with 1 Axes>"
      ]
     },
     "metadata": {
      "needs_background": "light"
     },
     "output_type": "display_data"
    }
   ],
   "source": [
    "data.YEARSEXP.hist()\n",
    "print(data.YEARSEXP.describe())\n",
    "data.YEARSEXP[data.YEARSEXP.isna()] = data.YEARSEXP.median()"
   ]
  },
  {
   "cell_type": "markdown",
   "metadata": {},
   "source": [
    "Observemos ahora cuantos valores perdidos nos quedan y cuantos registros nos quedarían si decidieramos eliminar todos aquellos que contengan algún valor perdido."
   ]
  },
  {
   "cell_type": "code",
   "execution_count": 133,
   "metadata": {},
   "outputs": [
    {
     "name": "stdout",
     "output_type": "stream",
     "text": [
      "El data frame tiene 51 columnas y 909 filas.\n",
      "Hay 43 columnas que tienen valores perdidos.\n",
      "      Valores_perdidos  Valores_Perd_Porc Tipo_dato\n",
      "Vis2               115               12.7  category\n",
      "PEU3                96               10.6  category\n",
      "Vis1                71                7.8  category\n",
      "Im3                 56                6.2  category\n",
      "JR2                 52                5.7  category\n",
      "BI2                 41                4.5  category\n",
      "Inc4                40                4.4  category\n",
      "Inc3                36                4.0  category\n",
      "Inc1                34                3.7  category\n",
      "Inc2                34                3.7  category\n",
      "BI1                 31                3.4  category\n",
      "Qu5                 29                3.2  category\n",
      "JR1                 26                2.9  category\n",
      "Qu4                 22                2.4  category\n",
      "Use4                22                2.4  category\n",
      "Im1                 21                2.3  category\n",
      "Im2                 19                2.1  category\n",
      "ENJ2                17                1.9  category\n",
      "Use2                16                1.8  category\n",
      "Qu3                 15                1.7  category\n",
      "Use5                15                1.7  category\n",
      "PEU2                14                1.5  category\n",
      "Pf3                 13                1.4  category\n",
      "Use1                13                1.4  category\n",
      "Exp1                12                1.3  category\n",
      "SA2                 12                1.3  category\n",
      "Exp3                12                1.3  category\n",
      "Exp4                12                1.3  category\n",
      "Exp5                12                1.3  category\n",
      "SA3                 11                1.2  category\n",
      "Pf1                 11                1.2  category\n",
      "PU2                 11                1.2  category\n",
      "SA1                 10                1.1  category\n",
      "Qu2                 10                1.1  category\n",
      "Exp2                10                1.1  category\n",
      "Use3                 9                1.0  category\n",
      "Vis3                 8                0.9  category\n",
      "Qu1                  7                0.8  category\n",
      "ENJ1                 7                0.8  category\n",
      "PU1                  7                0.8  category\n",
      "Pf2                  6                0.7  category\n",
      "PU3                  5                0.6  category\n",
      "PEU1                 4                0.4  category\n",
      "Si elimináramos todas las filas con valores perdidos nos quedaríamos con  622  filas, que supone una pérdida del  31.573157315731574 % de las filas.\n"
     ]
    }
   ],
   "source": [
    "dataNAS = nas(data)\n",
    "print(dataNAS)\n",
    "filasEliminadas = numNANrowsUnder(dataNAS, percentLimitToDrop=100)\n",
    "print(\"Si elimináramos todas las filas con valores perdidos nos quedaríamos con \", data.shape[0]-filasEliminadas,\n",
    "      \" filas, que supone una pérdida del \", filasEliminadas*100/data.shape[0],\n",
    "      \"% de las filas.\")\n"
   ]
  },
  {
   "cell_type": "markdown",
   "metadata": {},
   "source": [
    "#### Variables sobre Wikipedia\n",
    "Vemos que el resto de variables con valores perdidos corresponden con las percepciones de los encuestados sobre la Wikipedia. Según [el artículo](http://openaccess.uoc.edu/webapps/o2/bitstream/10609/39441/1/Meseguer_et_al_preprintJASIST.pdf) para el que se recogieron los datos las respuestas corresponden a una escala Likert, por lo que tiene sentido tratarlas como variables numéricas. Procedemos por tanto a su conversión, conservando los datos perdidos en forma de objetos NaN de Numpy."
   ]
  },
  {
   "cell_type": "code",
   "execution_count": 134,
   "metadata": {},
   "outputs": [
    {
     "data": {
      "text/plain": [
       "AGE                int64\n",
       "GENDER          category\n",
       "DOMAIN          category\n",
       "PhD                 bool\n",
       "YEARSEXP         float64\n",
       "UNIVERSITY      category\n",
       "UOC_POSITION    category\n",
       "USERWIKI            bool\n",
       "PU1              float64\n",
       "PU2              float64\n",
       "PU3              float64\n",
       "PEU1             float64\n",
       "PEU2             float64\n",
       "PEU3             float64\n",
       "ENJ1             float64\n",
       "ENJ2             float64\n",
       "Qu1              float64\n",
       "Qu2              float64\n",
       "Qu3              float64\n",
       "Qu4              float64\n",
       "Qu5              float64\n",
       "Vis1             float64\n",
       "Vis2             float64\n",
       "Vis3             float64\n",
       "Im1              float64\n",
       "Im2              float64\n",
       "Im3              float64\n",
       "SA1              float64\n",
       "SA2              float64\n",
       "SA3              float64\n",
       "Use1             float64\n",
       "Use2             float64\n",
       "Use3             float64\n",
       "Use4             float64\n",
       "Use5             float64\n",
       "Pf1              float64\n",
       "Pf2              float64\n",
       "Pf3              float64\n",
       "JR1              float64\n",
       "JR2              float64\n",
       "BI1              float64\n",
       "BI2              float64\n",
       "Inc1             float64\n",
       "Inc2             float64\n",
       "Inc3             float64\n",
       "Inc4             float64\n",
       "Exp1             float64\n",
       "Exp2             float64\n",
       "Exp3             float64\n",
       "Exp4             float64\n",
       "Exp5             float64\n",
       "dtype: object"
      ]
     },
     "execution_count": 134,
     "metadata": {},
     "output_type": "execute_result"
    }
   ],
   "source": [
    "for column in data.columns[8:]:\n",
    "    data[column] = pd.to_numeric(data[column])\n",
    "data.dtypes"
   ]
  },
  {
   "cell_type": "markdown",
   "metadata": {},
   "source": [
    "## 3.2 Identificación y tratamiento de valores extremos."
   ]
  },
  {
   "cell_type": "markdown",
   "metadata": {},
   "source": [
    "Ahora que nuestras dos variables numéricas están correctamente transformadas procedemos a buscar valores extremos."
   ]
  },
  {
   "cell_type": "code",
   "execution_count": 135,
   "metadata": {},
   "outputs": [
    {
     "data": {
      "text/plain": [
       "<matplotlib.axes._subplots.AxesSubplot at 0x7fd17514d5c0>"
      ]
     },
     "execution_count": 135,
     "metadata": {},
     "output_type": "execute_result"
    },
    {
     "data": {
      "image/png": "[encoded data removed]",
      "text/plain": [
       "<Figure size 432x288 with 1 Axes>"
      ]
     },
     "metadata": {
      "needs_background": "light"
     },
     "output_type": "display_data"
    }
   ],
   "source": [
    "# Edad\n",
    "data.AGE.plot.box()"
   ]
  },
  {
   "cell_type": "code",
   "execution_count": 136,
   "metadata": {},
   "outputs": [
    {
     "data": {
      "text/plain": [
       "<matplotlib.axes._subplots.AxesSubplot at 0x7fd1752c9048>"
      ]
     },
     "execution_count": 136,
     "metadata": {},
     "output_type": "execute_result"
    },
    {
     "data": {
      "image/png": "[encoded data removed]",
      "text/plain": [
       "<Figure size 432x288 with 1 Axes>"
      ]
     },
     "metadata": {
      "needs_background": "light"
     },
     "output_type": "display_data"
    }
   ],
   "source": [
    "# Años de experiencia\n",
    "data.YEARSEXP.plot.box()"
   ]
  },
  {
   "cell_type": "markdown",
   "metadata": {},
   "source": [
    "Si bien la variable YEARSEXP presenta varios outliers, la distribución de los datos parece tener sentido y no es demasiado extrema, por lo que se decide conservar todos los datos."
   ]
  },
  {
   "cell_type": "markdown",
   "metadata": {},
   "source": [
    "\n",
    "# 4 Análisis de los datos."
   ]
  },
  {
   "cell_type": "markdown",
   "metadata": {},
   "source": [
    "## 4.1 Selección de los grupos de datos que se quieren analizar/comparar (planificación de los análisis a aplicar)\n",
    "Se realizarán distintos análisis relacionando los datos demográficos de los encuestados con sus percepciones dobre la Wikipedia.\n",
    "\n",
    "Las percepciones sobre la Wikipedia se presentan agrupadas en distintas categorías, lo que nos permite la creación de variables que recojan la puntuación media de cada grupo para cada encuestado.\n",
    "Crearemos también una variable de puntuación media global.\n",
    "\n",
    "Estas variables serán redondeadas a números enteros y categorizadas ordinalmente."
   ]
  },
  {
   "cell_type": "code",
   "execution_count": 137,
   "metadata": {},
   "outputs": [
    {
     "name": "stderr",
     "output_type": "stream",
     "text": [
      "/opt/conda/lib/python3.7/site-packages/numpy/core/fromnumeric.py:3257: RuntimeWarning: Mean of empty slice.\n",
      "  out=out, **kwargs)\n",
      "/opt/conda/lib/python3.7/site-packages/numpy/core/_methods.py:161: RuntimeWarning: invalid value encountered in double_scalars\n",
      "  ret = ret.dtype.type(ret / rcount)\n"
     ]
    },
    {
     "data": {
      "text/html": [
       "<div>\n",
       "<style scoped>\n",
       "    .dataframe tbody tr th:only-of-type {\n",
       "        vertical-align: middle;\n",
       "    }\n",
       "\n",
       "    .dataframe tbody tr th {\n",
       "        vertical-align: top;\n",
       "    }\n",
       "\n",
       "    .dataframe thead th {\n",
       "        text-align: right;\n",
       "    }\n",
       "</style>\n",
       "<table border=\"1\" class=\"dataframe\">\n",
       "  <thead>\n",
       "    <tr style=\"text-align: right;\">\n",
       "      <th></th>\n",
       "      <th>G_PU</th>\n",
       "      <th>G_PEU</th>\n",
       "      <th>G_ENJ</th>\n",
       "      <th>G_QU</th>\n",
       "      <th>G_VIS</th>\n",
       "      <th>G_IM</th>\n",
       "      <th>G_SA</th>\n",
       "      <th>G_USE</th>\n",
       "      <th>G_PF</th>\n",
       "      <th>G_JR</th>\n",
       "      <th>G_BI</th>\n",
       "      <th>G_INC</th>\n",
       "      <th>G_EXP</th>\n",
       "      <th>GLOBAL</th>\n",
       "    </tr>\n",
       "  </thead>\n",
       "  <tbody>\n",
       "    <tr>\n",
       "      <th>count</th>\n",
       "      <td>905.000000</td>\n",
       "      <td>907.000000</td>\n",
       "      <td>907.000000</td>\n",
       "      <td>902.000000</td>\n",
       "      <td>908.000000</td>\n",
       "      <td>899.000000</td>\n",
       "      <td>905.000000</td>\n",
       "      <td>909.000000</td>\n",
       "      <td>907.000000</td>\n",
       "      <td>884.000000</td>\n",
       "      <td>881.000000</td>\n",
       "      <td>887.000000</td>\n",
       "      <td>904.000000</td>\n",
       "      <td>909.000000</td>\n",
       "    </tr>\n",
       "    <tr>\n",
       "      <th>mean</th>\n",
       "      <td>3.246961</td>\n",
       "      <td>3.958471</td>\n",
       "      <td>3.804851</td>\n",
       "      <td>3.177790</td>\n",
       "      <td>2.613620</td>\n",
       "      <td>2.885799</td>\n",
       "      <td>4.232044</td>\n",
       "      <td>2.496443</td>\n",
       "      <td>2.561191</td>\n",
       "      <td>3.417986</td>\n",
       "      <td>2.971623</td>\n",
       "      <td>3.538895</td>\n",
       "      <td>2.841611</td>\n",
       "      <td>3.209505</td>\n",
       "    </tr>\n",
       "    <tr>\n",
       "      <th>std</th>\n",
       "      <td>0.899681</td>\n",
       "      <td>0.636979</td>\n",
       "      <td>0.830210</td>\n",
       "      <td>0.599082</td>\n",
       "      <td>0.791760</td>\n",
       "      <td>0.811517</td>\n",
       "      <td>0.759440</td>\n",
       "      <td>0.924355</td>\n",
       "      <td>1.086558</td>\n",
       "      <td>1.031664</td>\n",
       "      <td>1.045983</td>\n",
       "      <td>0.941148</td>\n",
       "      <td>0.783685</td>\n",
       "      <td>0.533727</td>\n",
       "    </tr>\n",
       "    <tr>\n",
       "      <th>min</th>\n",
       "      <td>1.000000</td>\n",
       "      <td>1.333333</td>\n",
       "      <td>1.000000</td>\n",
       "      <td>1.200000</td>\n",
       "      <td>1.000000</td>\n",
       "      <td>1.000000</td>\n",
       "      <td>1.000000</td>\n",
       "      <td>1.000000</td>\n",
       "      <td>1.000000</td>\n",
       "      <td>1.000000</td>\n",
       "      <td>1.000000</td>\n",
       "      <td>1.000000</td>\n",
       "      <td>1.000000</td>\n",
       "      <td>1.482051</td>\n",
       "    </tr>\n",
       "    <tr>\n",
       "      <th>25%</th>\n",
       "      <td>2.666667</td>\n",
       "      <td>3.666667</td>\n",
       "      <td>3.000000</td>\n",
       "      <td>2.800000</td>\n",
       "      <td>2.000000</td>\n",
       "      <td>2.333333</td>\n",
       "      <td>4.000000</td>\n",
       "      <td>1.800000</td>\n",
       "      <td>1.666667</td>\n",
       "      <td>3.000000</td>\n",
       "      <td>2.000000</td>\n",
       "      <td>3.000000</td>\n",
       "      <td>2.200000</td>\n",
       "      <td>2.852564</td>\n",
       "    </tr>\n",
       "    <tr>\n",
       "      <th>50%</th>\n",
       "      <td>3.333333</td>\n",
       "      <td>4.000000</td>\n",
       "      <td>4.000000</td>\n",
       "      <td>3.200000</td>\n",
       "      <td>2.666667</td>\n",
       "      <td>3.000000</td>\n",
       "      <td>4.333333</td>\n",
       "      <td>2.400000</td>\n",
       "      <td>2.333333</td>\n",
       "      <td>3.500000</td>\n",
       "      <td>3.000000</td>\n",
       "      <td>3.500000</td>\n",
       "      <td>2.800000</td>\n",
       "      <td>3.202564</td>\n",
       "    </tr>\n",
       "    <tr>\n",
       "      <th>75%</th>\n",
       "      <td>4.000000</td>\n",
       "      <td>4.333333</td>\n",
       "      <td>4.500000</td>\n",
       "      <td>3.600000</td>\n",
       "      <td>3.000000</td>\n",
       "      <td>3.333333</td>\n",
       "      <td>5.000000</td>\n",
       "      <td>3.200000</td>\n",
       "      <td>3.333333</td>\n",
       "      <td>4.000000</td>\n",
       "      <td>4.000000</td>\n",
       "      <td>4.250000</td>\n",
       "      <td>3.400000</td>\n",
       "      <td>3.575641</td>\n",
       "    </tr>\n",
       "    <tr>\n",
       "      <th>max</th>\n",
       "      <td>5.000000</td>\n",
       "      <td>5.000000</td>\n",
       "      <td>5.000000</td>\n",
       "      <td>5.000000</td>\n",
       "      <td>5.000000</td>\n",
       "      <td>5.000000</td>\n",
       "      <td>5.000000</td>\n",
       "      <td>5.000000</td>\n",
       "      <td>5.000000</td>\n",
       "      <td>5.000000</td>\n",
       "      <td>5.000000</td>\n",
       "      <td>5.000000</td>\n",
       "      <td>5.000000</td>\n",
       "      <td>5.000000</td>\n",
       "    </tr>\n",
       "  </tbody>\n",
       "</table>\n",
       "</div>"
      ],
      "text/plain": [
       "             G_PU       G_PEU       G_ENJ        G_QU       G_VIS        G_IM  \\\n",
       "count  905.000000  907.000000  907.000000  902.000000  908.000000  899.000000   \n",
       "mean     3.246961    3.958471    3.804851    3.177790    2.613620    2.885799   \n",
       "std      0.899681    0.636979    0.830210    0.599082    0.791760    0.811517   \n",
       "min      1.000000    1.333333    1.000000    1.200000    1.000000    1.000000   \n",
       "25%      2.666667    3.666667    3.000000    2.800000    2.000000    2.333333   \n",
       "50%      3.333333    4.000000    4.000000    3.200000    2.666667    3.000000   \n",
       "75%      4.000000    4.333333    4.500000    3.600000    3.000000    3.333333   \n",
       "max      5.000000    5.000000    5.000000    5.000000    5.000000    5.000000   \n",
       "\n",
       "             G_SA       G_USE        G_PF        G_JR        G_BI       G_INC  \\\n",
       "count  905.000000  909.000000  907.000000  884.000000  881.000000  887.000000   \n",
       "mean     4.232044    2.496443    2.561191    3.417986    2.971623    3.538895   \n",
       "std      0.759440    0.924355    1.086558    1.031664    1.045983    0.941148   \n",
       "min      1.000000    1.000000    1.000000    1.000000    1.000000    1.000000   \n",
       "25%      4.000000    1.800000    1.666667    3.000000    2.000000    3.000000   \n",
       "50%      4.333333    2.400000    2.333333    3.500000    3.000000    3.500000   \n",
       "75%      5.000000    3.200000    3.333333    4.000000    4.000000    4.250000   \n",
       "max      5.000000    5.000000    5.000000    5.000000    5.000000    5.000000   \n",
       "\n",
       "            G_EXP      GLOBAL  \n",
       "count  904.000000  909.000000  \n",
       "mean     2.841611    3.209505  \n",
       "std      0.783685    0.533727  \n",
       "min      1.000000    1.482051  \n",
       "25%      2.200000    2.852564  \n",
       "50%      2.800000    3.202564  \n",
       "75%      3.400000    3.575641  \n",
       "max      5.000000    5.000000  "
      ]
     },
     "execution_count": 137,
     "metadata": {},
     "output_type": "execute_result"
    }
   ],
   "source": [
    "data['G_PU'] = pd.Series([0]*data.shape[0])\n",
    "data['G_PEU'] = pd.Series([0]*data.shape[0])\n",
    "data['G_ENJ'] = pd.Series([0]*data.shape[0])\n",
    "data['G_QU'] = pd.Series([0]*data.shape[0])\n",
    "data['G_VIS'] = pd.Series([0]*data.shape[0])\n",
    "data['G_IM'] = pd.Series([0]*data.shape[0])\n",
    "data['G_SA'] = pd.Series([0]*data.shape[0])\n",
    "data['G_USE'] = pd.Series([0]*data.shape[0])\n",
    "data['G_PF'] = pd.Series([0]*data.shape[0])\n",
    "data['G_JR'] = pd.Series([0]*data.shape[0])\n",
    "data['G_BI'] = pd.Series([0]*data.shape[0])\n",
    "data['G_INC'] = pd.Series([0]*data.shape[0])\n",
    "data['G_EXP'] = pd.Series([0]*data.shape[0])\n",
    "data['GLOBAL'] = pd.Series([0]*data.shape[0])\n",
    "\n",
    "for row in data.index:\n",
    "    for group in data.columns[51:]:\n",
    "        colPrefix = group[2:].lower()\n",
    "        groupValues = []\n",
    "        for column in data.columns[8:]:\n",
    "            lowercol = column.lower()\n",
    "            if lowercol.startswith(colPrefix):\n",
    "                myvalue = data.loc[row, column]\n",
    "                if not np.isnan(myvalue):\n",
    "                    groupValues.append(data.loc[row, column])\n",
    "        data.loc[row, group] = np.mean(groupValues)\n",
    "    data.loc[row, 'GLOBAL'] = np.mean(data.loc[row, \"G_PU\":\"G_EXP\"])\n",
    "\n",
    "data.iloc[:,51:].describe()"
   ]
  },
  {
   "cell_type": "markdown",
   "metadata": {},
   "source": [
    "#### Gestión de los valores perdidos en las nuevas variables"
   ]
  },
  {
   "cell_type": "code",
   "execution_count": 138,
   "metadata": {},
   "outputs": [
    {
     "name": "stdout",
     "output_type": "stream",
     "text": [
      "58\n"
     ]
    }
   ],
   "source": [
    "# Buscamos filas con NA en las variables de grupo\n",
    "numRowsToDrop = 0\n",
    "for row in range(data.shape[0]):\n",
    "     for column in range(51, data.shape[1]):\n",
    "         if isNAN(data.iloc[row, column]):\n",
    "             numRowsToDrop += 1\n",
    "             break\n",
    "print(numRowsToDrop)"
   ]
  },
  {
   "cell_type": "code",
   "execution_count": 139,
   "metadata": {},
   "outputs": [],
   "source": [
    "# Solo son 58, así que las borramos.\n",
    "data = data.dropna(subset=data.columns[51:]).copy()"
   ]
  },
  {
   "cell_type": "markdown",
   "metadata": {},
   "source": [
    "## 4.2 Comprobación de la normalidad y homogeneidad de la varianza.\n",
    "Primeramente, comprobamos la normalidad de las variables que hemos generado sobre los grupos de preguntas sobre la Wikipedia."
   ]
  },
  {
   "cell_type": "code",
   "execution_count": 140,
   "metadata": {},
   "outputs": [
    {
     "name": "stdout",
     "output_type": "stream",
     "text": [
      "G_PU\n"
     ]
    },
    {
     "data": {
      "image/png": "[encoded data removed]",
      "text/plain": [
       "<Figure size 432x288 with 1 Axes>"
      ]
     },
     "metadata": {
      "needs_background": "light"
     },
     "output_type": "display_data"
    },
    {
     "name": "stdout",
     "output_type": "stream",
     "text": [
      "G_PEU\n"
     ]
    },
    {
     "data": {
      "image/png": "[encoded data removed]",
      "text/plain": [
       "<Figure size 432x288 with 1 Axes>"
      ]
     },
     "metadata": {
      "needs_background": "light"
     },
     "output_type": "display_data"
    },
    {
     "name": "stdout",
     "output_type": "stream",
     "text": [
      "G_ENJ\n"
     ]
    },
    {
     "data": {
      "image/png": "[encoded data removed]",
      "text/plain": [
       "<Figure size 432x288 with 1 Axes>"
      ]
     },
     "metadata": {
      "needs_background": "light"
     },
     "output_type": "display_data"
    },
    {
     "name": "stdout",
     "output_type": "stream",
     "text": [
      "G_QU\n"
     ]
    },
    {
     "data": {
      "image/png": "[encoded data removed]",
      "text/plain": [
       "<Figure size 432x288 with 1 Axes>"
      ]
     },
     "metadata": {
      "needs_background": "light"
     },
     "output_type": "display_data"
    },
    {
     "name": "stdout",
     "output_type": "stream",
     "text": [
      "G_VIS\n"
     ]
    },
    {
     "data": {
      "image/png": "[encoded data removed]",
      "text/plain": [
       "<Figure size 432x288 with 1 Axes>"
      ]
     },
     "metadata": {
      "needs_background": "light"
     },
     "output_type": "display_data"
    },
    {
     "name": "stdout",
     "output_type": "stream",
     "text": [
      "G_IM\n"
     ]
    },
    {
     "data": {
      "image/png": "[encoded data removed]",
      "text/plain": [
       "<Figure size 432x288 with 1 Axes>"
      ]
     },
     "metadata": {
      "needs_background": "light"
     },
     "output_type": "display_data"
    },
    {
     "name": "stdout",
     "output_type": "stream",
     "text": [
      "G_SA\n"
     ]
    },
    {
     "data": {
      "image/png": "[encoded data removed]",
      "text/plain": [
       "<Figure size 432x288 with 1 Axes>"
      ]
     },
     "metadata": {
      "needs_background": "light"
     },
     "output_type": "display_data"
    },
    {
     "name": "stdout",
     "output_type": "stream",
     "text": [
      "G_USE\n"
     ]
    },
    {
     "data": {
      "image/png": "[encoded data removed]",
      "text/plain": [
       "<Figure size 432x288 with 1 Axes>"
      ]
     },
     "metadata": {
      "needs_background": "light"
     },
     "output_type": "display_data"
    },
    {
     "name": "stdout",
     "output_type": "stream",
     "text": [
      "G_PF\n"
     ]
    },
    {
     "data": {
      "image/png": "[encoded data removed]",
      "text/plain": [
       "<Figure size 432x288 with 1 Axes>"
      ]
     },
     "metadata": {
      "needs_background": "light"
     },
     "output_type": "display_data"
    },
    {
     "name": "stdout",
     "output_type": "stream",
     "text": [
      "G_JR\n"
     ]
    },
    {
     "data": {
      "image/png": "[encoded data removed]",
      "text/plain": [
       "<Figure size 432x288 with 1 Axes>"
      ]
     },
     "metadata": {
      "needs_background": "light"
     },
     "output_type": "display_data"
    },
    {
     "name": "stdout",
     "output_type": "stream",
     "text": [
      "G_BI\n"
     ]
    },
    {
     "data": {
      "image/png": "[encoded data removed]",
      "text/plain": [
       "<Figure size 432x288 with 1 Axes>"
      ]
     },
     "metadata": {
      "needs_background": "light"
     },
     "output_type": "display_data"
    },
    {
     "name": "stdout",
     "output_type": "stream",
     "text": [
      "G_INC\n"
     ]
    },
    {
     "data": {
      "image/png": "[encoded data removed]",
      "text/plain": [
       "<Figure size 432x288 with 1 Axes>"
      ]
     },
     "metadata": {
      "needs_background": "light"
     },
     "output_type": "display_data"
    },
    {
     "name": "stdout",
     "output_type": "stream",
     "text": [
      "G_EXP\n"
     ]
    },
    {
     "data": {
      "image/png": "[encoded data removed]",
      "text/plain": [
       "<Figure size 432x288 with 1 Axes>"
      ]
     },
     "metadata": {
      "needs_background": "light"
     },
     "output_type": "display_data"
    },
    {
     "name": "stdout",
     "output_type": "stream",
     "text": [
      "GLOBAL\n"
     ]
    },
    {
     "data": {
      "image/png": "[encoded data removed]",
      "text/plain": [
       "<Figure size 432x288 with 1 Axes>"
      ]
     },
     "metadata": {
      "needs_background": "light"
     },
     "output_type": "display_data"
    }
   ],
   "source": [
    "for group in range(51, data.shape[1]):\n",
    "    print(data.columns[group])\n",
    "    qqplot(data.iloc[:,group], line='s')\n",
    "    pyplot.show()\n",
    "pyplot.show()"
   ]
  },
  {
   "cell_type": "markdown",
   "metadata": {},
   "source": [
    "Como podemos ver, todas estas variables se distribuyen de forma más o menos normal.\n",
    "\n",
    "Continuamos analizando las dos varibles numéricas del grupo de variables demográficas."
   ]
  },
  {
   "cell_type": "code",
   "execution_count": 141,
   "metadata": {},
   "outputs": [
    {
     "name": "stdout",
     "output_type": "stream",
     "text": [
      "Edad\n"
     ]
    },
    {
     "data": {
      "image/png": "[encoded data removed]",
      "text/plain": [
       "<Figure size 432x288 with 1 Axes>"
      ]
     },
     "metadata": {
      "needs_background": "light"
     },
     "output_type": "display_data"
    },
    {
     "name": "stdout",
     "output_type": "stream",
     "text": [
      "Años de experiencia\n"
     ]
    },
    {
     "data": {
      "image/png": "[encoded data removed]",
      "text/plain": [
       "<Figure size 432x288 with 1 Axes>"
      ]
     },
     "metadata": {
      "needs_background": "light"
     },
     "output_type": "display_data"
    }
   ],
   "source": [
    "print(\"Edad\")\n",
    "qqplot(data.AGE, line='s')\n",
    "pyplot.show()\n",
    "print(\"Años de experiencia\")\n",
    "qqplot(data.YEARSEXP, line='s')\n",
    "pyplot.show()"
   ]
  },
  {
   "cell_type": "markdown",
   "metadata": {},
   "source": [
    "Vemos como la edad se distribuye calaramente de forma normal, y si bien los años de experiencia parecen tomar otra distribución ligeramente diferente, esta parece aproximarse bastante a la normal."
   ]
  },
  {
   "cell_type": "markdown",
   "metadata": {},
   "source": [
    "#### Conversión de las nuevas variables a categóricas\n",
    "Una vez calculada la normalidad de las nuevas variables, procedemos a convertirlas en categóricas."
   ]
  },
  {
   "cell_type": "code",
   "execution_count": 142,
   "metadata": {},
   "outputs": [],
   "source": [
    "for column in data.columns[51:]:\n",
    "    data[column] = round(data[column])\n",
    "    data[column] = pd.Categorical(data[column], [1, 2, 3, 4, 5], ordered=True)"
   ]
  },
  {
   "cell_type": "markdown",
   "metadata": {},
   "source": [
    "#### Análisis de la varianza"
   ]
  },
  {
   "cell_type": "code",
   "execution_count": 143,
   "metadata": {},
   "outputs": [
    {
     "data": {
      "text/plain": [
       "count     851\n",
       "unique      5\n",
       "top         3\n",
       "freq      328\n",
       "Name: G_PU, dtype: int64"
      ]
     },
     "execution_count": 143,
     "metadata": {},
     "output_type": "execute_result"
    }
   ],
   "source": [
    "f_oneway(data.AGE, data.YEARSEXP)"
   ]
  },
  {
   "cell_type": "markdown",
   "metadata": {},
   "source": [
    "La función `F_oneway` comprueba la hipótesis de que las varianzas de ambas muestras provengan de la misma población. Con un pvalue de 0.0 no podemos afirmar que ambas varianzas sean similares, sin embargo esto no será necesario para las pruebas que pretendemos llevar a cabo.\n",
    "\n",
    "No se calcula la varianza de las nuevas variables porque estas serán tratadas como categóricas."
   ]
  },
  {
   "cell_type": "markdown",
   "metadata": {},
   "source": [
    "## 4.3 Aplicación de pruebas estadísticas para comparar los grupos de datos. En función de los datos y el objetivo del estudio, aplicar pruebas de contraste de hipótesis, correlaciones, regresiones, etc. Aplicar al menos tres métodos de análisis diferentes\n",
    "### Regresión logarítmica\n",
    "Realizamos una regresión logarítmica entre las variables demográficas y las variables de grupo que hemos creado."
   ]
  },
  {
   "cell_type": "code",
   "execution_count": 145,
   "metadata": {},
   "outputs": [],
   "source": [
    "predictions = pd.DataFrame()\n",
    "y_tests = pd.DataFrame()\n",
    "f1_score_data = pd.Series()\n",
    "models = pd.Series()\n",
    "\n",
    "for column in data.columns[51:]:\n",
    "    X_train, X_test, y_train, y_test = train_test_split(data.loc[:,'AGE':'USERWIKI'], \n",
    "                                                        data[column], test_size=0.30, \n",
    "                                                        random_state=101)\n",
    "    logmodel = LogisticRegression(solver='saga', multi_class=\"auto\", max_iter=5000)\n",
    "    logmodel.fit(X_train,y_train)\n",
    "    predictions[column] = logmodel.predict(X_test)\n",
    "    y_tests[column] = y_test\n",
    "    models[column] = logmodel\n",
    "    f1_score_data[column] = f1_score(y_tests[column], predictions[column], average='micro')"
   ]
  },
  {
   "cell_type": "markdown",
   "metadata": {},
   "source": [
    "Para medir la bondad del ajuste calculamos los valores F1 para cada variable ordenándolas de mayor a menor:"
   ]
  },
  {
   "cell_type": "code",
   "execution_count": 146,
   "metadata": {},
   "outputs": [
    {
     "name": "stdout",
     "output_type": "stream",
     "text": [
      "G_ENJ     0.621094\n",
      "GLOBAL    0.613281\n",
      "G_PEU     0.597656\n",
      "G_QU      0.582031\n",
      "G_EXP     0.472656\n",
      "G_IM      0.468750\n",
      "G_INC     0.460938\n",
      "G_VIS     0.457031\n",
      "G_JR      0.453125\n",
      "G_PU      0.398438\n",
      "G_SA      0.394531\n",
      "G_USE     0.351562\n",
      "G_PF      0.300781\n",
      "G_BI      0.277344\n",
      "dtype: float64\n"
     ]
    }
   ],
   "source": [
    "f1_ranking = f1_score_data.sort_values(ascending=False)\n",
    "print(f1_ranking)"
   ]
  },
  {
   "cell_type": "markdown",
   "metadata": {},
   "source": [
    "Veamos en detalle los resultados del test sobre los dos modelos que mejor han puntuado:"
   ]
  },
  {
   "cell_type": "code",
   "execution_count": 147,
   "metadata": {},
   "outputs": [
    {
     "name": "stdout",
     "output_type": "stream",
     "text": [
      "['G_ENJ']\n",
      "              precision    recall  f1-score   support\n",
      "\n",
      "           2       0.00      0.00      0.00        25\n",
      "           3       0.00      0.00      0.00        26\n",
      "           4       0.63      0.99      0.77       161\n",
      "           5       0.00      0.00      0.00        44\n",
      "\n",
      "    accuracy                           0.62       256\n",
      "   macro avg       0.16      0.25      0.19       256\n",
      "weighted avg       0.40      0.62      0.48       256\n",
      "\n",
      "['GLOBAL']\n",
      "              precision    recall  f1-score   support\n",
      "\n",
      "           2       0.00      0.00      0.00        20\n",
      "           3       0.63      0.96      0.76       161\n",
      "           4       0.22      0.03      0.05        74\n",
      "           5       0.00      0.00      0.00         1\n",
      "\n",
      "    accuracy                           0.61       256\n",
      "   macro avg       0.21      0.25      0.20       256\n",
      "weighted avg       0.46      0.61      0.49       256\n",
      "\n"
     ]
    },
    {
     "name": "stderr",
     "output_type": "stream",
     "text": [
      "/opt/conda/lib/python3.7/site-packages/sklearn/metrics/classification.py:1437: UndefinedMetricWarning: Precision and F-score are ill-defined and being set to 0.0 in labels with no predicted samples.\n",
      "  'precision', 'predicted', average, warn_for)\n"
     ]
    }
   ],
   "source": [
    "print([f1_ranking.index[0]])\n",
    "print(classification_report(y_tests[f1_ranking.index[0]],predictions[f1_ranking.index[0]]))\n",
    "\n",
    "print([f1_ranking.index[1]])\n",
    "print(classification_report(y_tests[f1_ranking.index[1]],predictions[f1_ranking.index[1]]))"
   ]
  },
  {
   "cell_type": "markdown",
   "metadata": {},
   "source": [
    "Parece ser que el modelo desarrollado para las variables `G_ENJ` y `GLOBAL` no ha conseguido ser mejor que el uso de la moda como predictor de cada variable, lo cual podemos comprobar observando el recuento valores predecidos:"
   ]
  },
  {
   "cell_type": "code",
   "execution_count": 155,
   "metadata": {},
   "outputs": [
    {
     "name": "stdout",
     "output_type": "stream",
     "text": [
      "G_ENJ\n"
     ]
    },
    {
     "data": {
      "text/plain": [
       "4    253\n",
       "3      3\n",
       "Name: G_ENJ, dtype: int64"
      ]
     },
     "execution_count": 155,
     "metadata": {},
     "output_type": "execute_result"
    }
   ],
   "source": [
    "print(\"G_ENJ\")\n",
    "predictions.G_ENJ.value_counts()"
   ]
  },
  {
   "cell_type": "code",
   "execution_count": 156,
   "metadata": {},
   "outputs": [
    {
     "name": "stdout",
     "output_type": "stream",
     "text": [
      "GLOBAL\n"
     ]
    },
    {
     "data": {
      "text/plain": [
       "3    247\n",
       "4      9\n",
       "Name: GLOBAL, dtype: int64"
      ]
     },
     "execution_count": 156,
     "metadata": {},
     "output_type": "execute_result"
    }
   ],
   "source": [
    "print(\"GLOBAL\")\n",
    "predictions.GLOBAL.value_counts()"
   ]
  },
  {
   "cell_type": "markdown",
   "metadata": {},
   "source": [
    "### 5 Representación de los resultados a partir de tablas y gráficas."
   ]
  },
  {
   "cell_type": "markdown",
   "metadata": {},
   "source": [
    "### 6 Resolución del problema. A partir de los resultados obtenidos, ¿cuáles son las conclusiones? ¿Los resultados permiten responder al problema?"
   ]
  },
  {
   "cell_type": "code",
   "execution_count": null,
   "metadata": {},
   "outputs": [],
   "source": []
  }
 ],
 "metadata": {
  "kernelspec": {
   "display_name": "Python 3",
   "language": "python",
   "name": "python3"
  },
  "language_info": {
   "codemirror_mode": {
    "name": "ipython",
    "version": 3
   },
   "file_extension": ".py",
   "mimetype": "text/x-python",
   "name": "python",
   "nbconvert_exporter": "python",
   "pygments_lexer": "ipython3",
   "version": "3.7.3"
  }
 },
 "nbformat": 4,
 "nbformat_minor": 2
}
